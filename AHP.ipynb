{
  "nbformat": 4,
  "nbformat_minor": 0,
  "metadata": {
    "colab": {
      "provenance": [],
      "authorship_tag": "ABX9TyMKAIDH+BGDfNzrt7EA2onb"
    },
    "kernelspec": {
      "name": "python3",
      "display_name": "Python 3"
    },
    "language_info": {
      "name": "python"
    }
  },
  "cells": [
    {
      "cell_type": "markdown",
      "source": [
        "# Analytical Hierarchy Process"
      ],
      "metadata": {
        "id": "1iDZNG--W2xW"
      }
    },
    {
      "cell_type": "markdown",
      "source": [
        "Analytical Hierarchy Process (AHP) adalah metode pengambilan keputusan yang dikembangkan oleh Thomas L. Saaty pada tahun 1970-an. AHP membantu dalam membuat keputusan yang melibatkan berbagai kriteria dengan cara menguraikan masalah kompleks menjadi hierarki yang lebih sederhana. Metode ini melibatkan tiga langkah utama:\n",
        "\n",
        "1. Mendefinisikan Hierarki Keputusan:\n",
        "\n",
        "- Menentukan tujuan utama.\n",
        "- Mengidentifikasi kriteria dan sub-kriteria yang relevan.\n",
        "- Menyusun alternatif keputusan.\n",
        "\n",
        "2. Membuat Perbandingan Berpasangan (Pairwise Comparison):\n",
        "\n",
        "- Setiap elemen dalam setiap tingkat hierarki dibandingkan dengan elemen lain dalam tingkat yang sama berdasarkan skala preferensi (biasanya skala 1-9).\n",
        "\n",
        "3. Menghitung Bobot dan Konsistensi:\n",
        "\n",
        "- Menggunakan nilai eigen untuk menghitung bobot relatif dari setiap elemen.\n",
        "- Mengukur konsistensi perbandingan untuk memastikan keandalan hasil (rasio konsistensi harus kurang dari 0,1)."
      ],
      "metadata": {
        "id": "kfRrjWMjXN2C"
      }
    },
    {
      "cell_type": "code",
      "source": [
        "#terapkan metode AHP pada studi kasus pemilihan smartphone baru"
      ],
      "metadata": {
        "id": "pCqWDwX1VVGs"
      },
      "execution_count": 1,
      "outputs": []
    },
    {
      "cell_type": "markdown",
      "source": [
        "1. Mendefinisikan Hierarki Keputusan:\n",
        "\n",
        "- Tujuan: Memilih smartphone baru terbaik.\n",
        "- Kriteria: Performa, Kualitas Kamera, Harga.\n",
        "- Alternatif: Samsung, Poco, Realme.\n",
        "\n",
        "2. Membuat Perbandingan Berpasangan (Pairwise Comparison) untuk kriteria:\n",
        "\n",
        "- Kita akan menggunakan skala 1-9 untuk mengukur preferensi berdasarkan skor prioritas utama (8:3:5).\n",
        "\n",
        "3. Menghitung Bobot Kriteria dan Konsistensi.\n",
        "\n",
        "4. Membuat Perbandingan Berpasangan untuk Alternatif berdasarkan Setiap Kriteria:\n",
        "\n",
        "- Setiap alternatif akan dibandingkan berdasarkan masing-masing kriteria.\n",
        "\n",
        "5. Menghitung Bobot Alternatif untuk Setiap Kriteria dan Menggabungkannya untuk Menentukan Smartphone Terbaik."
      ],
      "metadata": {
        "id": "uLCs_5h3Ubqq"
      }
    },
    {
      "cell_type": "markdown",
      "source": [
        "Langkah 1: Matriks Perbandingan Berpasangan untuk Kriteria\n",
        "Kriteria:\n",
        "\n",
        "- Performa (P)\n",
        "- Kualitas Kamera (K)\n",
        "- Harga (H)\n",
        "\n",
        "Skor prioritas utama: 8-3-5\n",
        "\n",
        "Matriks perbandingan berpasangan untuk kriteria:\n",
        "\n",
        "- P vs K: 8/3\n",
        "- P vs H: 8/5\n",
        "- K vs H: 3/5\n"
      ],
      "metadata": {
        "id": "yoPS5uNJVSLX"
      }
    },
    {
      "cell_type": "code",
      "execution_count": 5,
      "metadata": {
        "colab": {
          "base_uri": "https://localhost:8080/"
        },
        "id": "Assh6SHKWjPg",
        "outputId": "080cdbcc-e278-4270-b77f-7cc13e1e9a3e"
      },
      "outputs": [
        {
          "output_type": "stream",
          "name": "stdout",
          "text": [
            "Bobot Kriteria: [0.5    0.1875 0.3125]\n",
            "Rasio Konsistensi (CR): -1.1485065771984378e-15\n",
            "Matriks konsisten.\n"
          ]
        }
      ],
      "source": [
        "import numpy as np\n",
        "\n",
        "def ahp(matrix):\n",
        "    # Menghitung nilai eigen dan vektor eigen dari matriks perbandingan\n",
        "    eig_val, eig_vec = np.linalg.eig(matrix)\n",
        "\n",
        "    # Menemukan nilai eigen maksimum\n",
        "    max_eig_val = np.max(np.real(eig_val))\n",
        "\n",
        "    # Menemukan vektor eigen yang sesuai dan menormalkan untuk mendapatkan bobot relatif\n",
        "    eig_vec = np.real(eig_vec[:, np.argmax(np.real(eig_val))])\n",
        "    weights = eig_vec / np.sum(eig_vec)\n",
        "\n",
        "    # Menghitung Indeks Konsistensi (CI)\n",
        "    n = matrix.shape[0]\n",
        "    ci = (max_eig_val - n) / (n - 1)\n",
        "\n",
        "    # Nilai Indeks Acak (RI) berdasarkan ukuran matriks\n",
        "    ri_values = {1: 0, 2: 0, 3: 0.58, 4: 0.90, 5: 1.12, 6: 1.24, 7: 1.32, 8: 1.41, 9: 1.45, 10: 1.49}\n",
        "    ri = ri_values.get(n, 1.49)  # Ambil nilai RI yang sesuai atau gunakan 1.49 jika ukuran tidak ada di kamus\n",
        "\n",
        "    # Menghitung Rasio Konsistensi (CR)\n",
        "    cr = ci / ri\n",
        "\n",
        "    return weights, cr\n",
        "\n",
        "# Matriks perbandingan berpasangan untuk kriteria\n",
        "criteria_matrix = np.array([\n",
        "    [1,   8/3, 8/5],\n",
        "    [3/8, 1,   3/5],\n",
        "    [5/8, 5/3, 1  ]\n",
        "])\n",
        "\n",
        "# Menghitung bobot dan rasio konsistensi untuk kriteria\n",
        "criteria_weights, criteria_cr = ahp(criteria_matrix)\n",
        "\n",
        "print(\"Bobot Kriteria:\", criteria_weights)\n",
        "print(\"Rasio Konsistensi (CR):\", criteria_cr)\n",
        "\n",
        "# Periksa apakah rasio konsistensi dapat diterima\n",
        "if criteria_cr < 0.1:\n",
        "    print(\"Matriks konsisten.\")\n",
        "else:\n",
        "    print(\"Matriks tidak konsisten.\")\n"
      ]
    },
    {
      "cell_type": "markdown",
      "source": [
        "Langkah 2: Matriks Perbandingan Berpasangan untuk Alternatif\n",
        "\n",
        "Untuk setiap kriteria, kita akan membuat matriks perbandingan berpasangan untuk alternatif Samsung, Poco, dan Realme.\n",
        "\n",
        "Berdasarkan skor performa, kualitas kamera, dan harga yang diberikan:"
      ],
      "metadata": {
        "id": "41eZkNnZ9C9R"
      }
    },
    {
      "cell_type": "code",
      "source": [
        "# Matriks perbandingan berpasangan untuk alternatif berdasarkan Performa\n",
        "performance_matrix = np.array([\n",
        "    [1, 8/9, 8/7],\n",
        "    [9/8, 1, 9/7],\n",
        "    [7/8, 7/9, 1]\n",
        "])\n",
        "\n",
        "# Matriks perbandingan berpasangan untuk alternatif berdasarkan Kualitas Kamera\n",
        "camera_matrix = np.array([\n",
        "    [1, 8/6, 8/7],\n",
        "    [6/8, 1, 6/7],\n",
        "    [7/8, 7/6, 1]\n",
        "])\n",
        "\n",
        "# Matriks perbandingan berpasangan untuk alternatif berdasarkan Harga\n",
        "price_matrix = np.array([\n",
        "    [1, 3/4, 3/5],\n",
        "    [4/3, 1, 4/5],\n",
        "    [5/3, 5/4, 1]\n",
        "])\n",
        "\n",
        "# Menghitung bobot alternatif untuk setiap kriteria\n",
        "performance_weights, performance_cr = ahp(performance_matrix)\n",
        "camera_weights, camera_cr = ahp(camera_matrix)\n",
        "price_weights, price_cr = ahp(price_matrix)\n",
        "\n",
        "print(\"Bobot Alternatif Berdasarkan Performa:\", performance_weights)\n",
        "print(\"Rasio Konsistensi (CR) Performa:\", performance_cr)\n",
        "\n",
        "print(\"Bobot Alternatif Berdasarkan Kualitas Kamera:\", camera_weights)\n",
        "print(\"Rasio Konsistensi (CR) Kualitas Kamera:\", camera_cr)\n",
        "\n",
        "print(\"Bobot Alternatif Berdasarkan Harga:\", price_weights)\n",
        "print(\"Rasio Konsistensi (CR) Harga:\", price_cr)\n"
      ],
      "metadata": {
        "colab": {
          "base_uri": "https://localhost:8080/"
        },
        "id": "A50HoXHA9Jsx",
        "outputId": "6942add6-0d0d-40de-8b61-dd1e9098f2c2"
      },
      "execution_count": 6,
      "outputs": [
        {
          "output_type": "stream",
          "name": "stdout",
          "text": [
            "Bobot Alternatif Berdasarkan Performa: [0.33333333 0.375      0.29166667]\n",
            "Rasio Konsistensi (CR) Performa: 0.0\n",
            "Bobot Alternatif Berdasarkan Kualitas Kamera: [0.38095238 0.28571429 0.33333333]\n",
            "Rasio Konsistensi (CR) Kualitas Kamera: 0.0\n",
            "Bobot Alternatif Berdasarkan Harga: [0.25       0.33333333 0.41666667]\n",
            "Rasio Konsistensi (CR) Harga: 3.8283552573281263e-16\n"
          ]
        }
      ]
    },
    {
      "cell_type": "markdown",
      "source": [
        "Langkah 3: Menggabungkan Bobot Kriteria dan Bobot Alternatif\n",
        "\n",
        "Setelah kita mendapatkan bobot untuk setiap kriteria dan bobot alternatif berdasarkan setiap kriteria, kita dapat menghitung skor akhir untuk setiap alternatif:"
      ],
      "metadata": {
        "id": "q3_mqcW-NzHd"
      }
    },
    {
      "cell_type": "code",
      "source": [
        "# Menggabungkan bobot kriteria dan bobot alternatif\n",
        "final_scores = np.dot(criteria_weights, np.array([performance_weights, camera_weights, price_weights]))\n",
        "\n",
        "alternatives = [\"Samsung\", \"Poco\", \"Realme\"]\n",
        "print(\"Skor Akhir Alternatif:\")\n",
        "for i, score in enumerate(final_scores):\n",
        "    print(f\"{alternatives[i]}: {score:.4f}\")\n",
        "\n",
        "# Alternatif dengan skor tertinggi adalah pilihan terbaik\n",
        "best_alternative = alternatives[np.argmax(final_scores)]\n",
        "print(f\"Alternatif terbaik adalah: {best_alternative}\")\n"
      ],
      "metadata": {
        "colab": {
          "base_uri": "https://localhost:8080/"
        },
        "id": "2rPpkbqoN3gZ",
        "outputId": "c0e8e564-d87b-436d-9599-6aee8a0d6348"
      },
      "execution_count": 7,
      "outputs": [
        {
          "output_type": "stream",
          "name": "stdout",
          "text": [
            "Skor Akhir Alternatif:\n",
            "Samsung: 0.3162\n",
            "Poco: 0.3452\n",
            "Realme: 0.3385\n",
            "Alternatif terbaik adalah: Poco\n"
          ]
        }
      ]
    },
    {
      "cell_type": "markdown",
      "source": [
        "Kesimpulan\n",
        "\n",
        "Dengan menggunakan kode di atas, Anda dapat melakukan analisis AHP untuk memilih smartphone baru berdasarkan kriteria performa, kualitas kamera, dan harga. Pastikan untuk memeriksa rasio konsistensi (CR) untuk memastikan bahwa perbandingan berpasangan yang Anda lakukan adalah konsisten. Jika CR kurang dari 0,1, maka matriks perbandingan Anda konsisten dan hasilnya dapat diandalkan."
      ],
      "metadata": {
        "id": "UKqgvOQDPamS"
      }
    }
  ]
}