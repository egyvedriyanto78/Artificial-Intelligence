{
  "nbformat": 4,
  "nbformat_minor": 0,
  "metadata": {
    "colab": {
      "provenance": [],
      "authorship_tag": "ABX9TyO722AQLLblIU1kr/ojEBlk"
    },
    "kernelspec": {
      "name": "python3",
      "display_name": "Python 3"
    },
    "language_info": {
      "name": "python"
    }
  },
  "cells": [
    {
      "cell_type": "markdown",
      "source": [
        "#Analytic Hierarchy Process"
      ],
      "metadata": {
        "id": "g2tvg1f1HDXU"
      }
    },
    {
      "cell_type": "markdown",
      "source": [
        "AHP (Analytic Hierarchy Process) adalah sebuah metode yang digunakan dalam pengambilan keputusan multi-kriteria. Metode ini dikembangkan oleh Thomas L. Saaty dan digunakan untuk mengurutkan dan memilih opsi terbaik dari beberapa kriteria yang saling terkait.\n",
        "\n",
        "AHP melibatkan tahapan-tahapan berikut:\n",
        "\n",
        "- Merumuskan masalah pengambilan keputusan.\n",
        "- Membuat hierarki kriteria dengan menentukan kriteria utama dan sub-kriteria yang relevan.\n",
        "- Membuat matriks perbandingan berpasangan (pairwise comparison) untuk menilai tingkat kepentingan antara setiap pasangan kriteria dan sub-kriteria.\n",
        "- Menghitung bobot relatif (priority weight) dari setiap kriteria dan sub-kriteria.\n",
        "- Menggunakan bobot relatif untuk menghitung skor total dari setiap opsi yang dinilai.\n",
        "- Menentukan opsi terbaik berdasarkan skor total yang diperoleh."
      ],
      "metadata": {
        "id": "mt42ALPnHhhv"
      }
    },
    {
      "cell_type": "code",
      "source": [
        "import numpy as np\n",
        "import pandas as pd\n",
        "from sklearn.preprocessing import normalize"
      ],
      "metadata": {
        "id": "dbaEr-GKHchp"
      },
      "execution_count": null,
      "outputs": []
    },
    {
      "cell_type": "code",
      "source": [
        "# features\n",
        "# kategori\n",
        "# skor prioritas\n",
        "# [['experience', 'education', 'charisma', 'age'], [4, 3, 7]]\n",
        "def calc_prior(features, total_point):\n",
        "  n = len(features[0])\n",
        "  ahp_matrix = np.ones([n, n])\n",
        "\n",
        "  for i in range(0, n): # baris\n",
        "    for j in range(0, n): # kolom\n",
        "      if(i < j):\n",
        "        if(i == 0):\n",
        "          ahp_matrix[i, j] = float(features[1][j-1])\n",
        "          ahp_matrix[j, i] = float(1/features[1][j-1])\n",
        "        else:\n",
        "          if(ahp_matrix[0, j] < ahp_matrix[0, i]):\n",
        "            ahp_matrix[i, j] = float(1/((ahp_matrix[0, i] - ahp_matrix[0, j]) + 1))\n",
        "          else:\n",
        "            ahp_matrix[i, j] = float((ahp_matrix[0, j] - ahp_matrix[0, i]) + 1)\n",
        "          ahp_matrix[j, i] = float(1/ahp_matrix[i,j])\n",
        "  \n",
        "  normalized_matrix = normalize(ahp_matrix, axis=0, norm=\"l1\")\n",
        "  weight = normalized_matrix.mean(1)\n",
        "\n",
        "  points = total_point*weight\n",
        "\n",
        "  return dict(zip(features[0], points))"
      ],
      "metadata": {
        "id": "IMsOqPpwIMGo"
      },
      "execution_count": null,
      "outputs": []
    },
    {
      "cell_type": "code",
      "source": [
        "main_dict = calc_prior([['experience', 'education', 'charisma', 'age'], [4, 3, 7]], 1)\n",
        "main_dict"
      ],
      "metadata": {
        "colab": {
          "base_uri": "https://localhost:8080/"
        },
        "id": "o-sWcYTiIRhc",
        "outputId": "a460028b-2e09-438c-aa81-9b08bdab1609"
      },
      "execution_count": null,
      "outputs": [
        {
          "output_type": "execute_result",
          "data": {
            "text/plain": [
              "{'experience': 0.5452742652453497,\n",
              " 'education': 0.15610892926502956,\n",
              " 'charisma': 0.24396228043675283,\n",
              " 'age': 0.0546545250528678}"
            ]
          },
          "metadata": {},
          "execution_count": 3
        }
      ]
    },
    {
      "cell_type": "code",
      "source": [
        "exp_dict = calc_prior([['Dick', 'Tom', 'Harry'], [4, 9]], 1)\n",
        "exp_dict"
      ],
      "metadata": {
        "colab": {
          "base_uri": "https://localhost:8080/"
        },
        "id": "yN5Pk6TuIWXl",
        "outputId": "dd7cba14-06da-48ab-d287-ec31a20e64da"
      },
      "execution_count": null,
      "outputs": [
        {
          "output_type": "execute_result",
          "data": {
            "text/plain": [
              "{'Dick': 0.6904624753127058,\n",
              " 'Tom': 0.25074061882817644,\n",
              " 'Harry': 0.05879690585911784}"
            ]
          },
          "metadata": {},
          "execution_count": 4
        }
      ]
    },
    {
      "cell_type": "code",
      "source": [
        "ed_dict = calc_prior([['Harry', 'Tom', 'Dick'], [5, 7]], 1)\n",
        "ed_dict"
      ],
      "metadata": {
        "colab": {
          "base_uri": "https://localhost:8080/"
        },
        "id": "_rtNa96kIXyL",
        "outputId": "c6658ab1-dc36-46ab-95e6-fb9dd9b70d7a"
      },
      "execution_count": null,
      "outputs": [
        {
          "output_type": "execute_result",
          "data": {
            "text/plain": [
              "{'Harry': 0.7235060572126643,\n",
              " 'Tom': 0.19318605992738133,\n",
              " 'Dick': 0.08330788285995452}"
            ]
          },
          "metadata": {},
          "execution_count": 5
        }
      ]
    },
    {
      "cell_type": "code",
      "source": [
        "char_dict = calc_prior([['Tom', 'Dick', 'Harry'], [5, 9]], 1)\n",
        "char_dict"
      ],
      "metadata": {
        "colab": {
          "base_uri": "https://localhost:8080/"
        },
        "id": "UVE2iaRrIa15",
        "outputId": "cd1a9e87-d05f-4c51-c0f9-470f7cf39f72"
      },
      "execution_count": null,
      "outputs": [
        {
          "output_type": "execute_result",
          "data": {
            "text/plain": [
              "{'Tom': 0.7230544924366685,\n",
              " 'Dick': 0.2157220095984448,\n",
              " 'Harry': 0.06122349796488671}"
            ]
          },
          "metadata": {},
          "execution_count": 6
        }
      ]
    },
    {
      "cell_type": "code",
      "source": [
        "age_dict = calc_prior([['Dick', 'Tom', 'Harry'], [3, 9]], 1)\n",
        "age_dict"
      ],
      "metadata": {
        "colab": {
          "base_uri": "https://localhost:8080/"
        },
        "id": "C17JoYCoIgCz",
        "outputId": "30e60e2b-c9e6-47a3-c5a1-ca869f676205"
      },
      "execution_count": null,
      "outputs": [
        {
          "output_type": "execute_result",
          "data": {
            "text/plain": [
              "{'Dick': 0.6486191293493525,\n",
              " 'Tom': 0.29463774899880374,\n",
              " 'Harry': 0.05674312165184375}"
            ]
          },
          "metadata": {},
          "execution_count": 7
        }
      ]
    },
    {
      "cell_type": "code",
      "source": [
        "df = pd.DataFrame([exp_dict, ed_dict, char_dict, age_dict])\n",
        "df.index = main_dict.keys()\n",
        "df"
      ],
      "metadata": {
        "colab": {
          "base_uri": "https://localhost:8080/",
          "height": 174
        },
        "id": "HF7gSWNhInek",
        "outputId": "a3537aeb-4457-4fad-b673-76b784a75b83"
      },
      "execution_count": null,
      "outputs": [
        {
          "output_type": "execute_result",
          "data": {
            "text/plain": [
              "                Dick       Tom     Harry\n",
              "experience  0.690462  0.250741  0.058797\n",
              "education   0.083308  0.193186  0.723506\n",
              "charisma    0.215722  0.723054  0.061223\n",
              "age         0.648619  0.294638  0.056743"
            ],
            "text/html": [
              "\n",
              "  <div id=\"df-c69277dc-1cf2-4988-ace5-0c385a6a024b\">\n",
              "    <div class=\"colab-df-container\">\n",
              "      <div>\n",
              "<style scoped>\n",
              "    .dataframe tbody tr th:only-of-type {\n",
              "        vertical-align: middle;\n",
              "    }\n",
              "\n",
              "    .dataframe tbody tr th {\n",
              "        vertical-align: top;\n",
              "    }\n",
              "\n",
              "    .dataframe thead th {\n",
              "        text-align: right;\n",
              "    }\n",
              "</style>\n",
              "<table border=\"1\" class=\"dataframe\">\n",
              "  <thead>\n",
              "    <tr style=\"text-align: right;\">\n",
              "      <th></th>\n",
              "      <th>Dick</th>\n",
              "      <th>Tom</th>\n",
              "      <th>Harry</th>\n",
              "    </tr>\n",
              "  </thead>\n",
              "  <tbody>\n",
              "    <tr>\n",
              "      <th>experience</th>\n",
              "      <td>0.690462</td>\n",
              "      <td>0.250741</td>\n",
              "      <td>0.058797</td>\n",
              "    </tr>\n",
              "    <tr>\n",
              "      <th>education</th>\n",
              "      <td>0.083308</td>\n",
              "      <td>0.193186</td>\n",
              "      <td>0.723506</td>\n",
              "    </tr>\n",
              "    <tr>\n",
              "      <th>charisma</th>\n",
              "      <td>0.215722</td>\n",
              "      <td>0.723054</td>\n",
              "      <td>0.061223</td>\n",
              "    </tr>\n",
              "    <tr>\n",
              "      <th>age</th>\n",
              "      <td>0.648619</td>\n",
              "      <td>0.294638</td>\n",
              "      <td>0.056743</td>\n",
              "    </tr>\n",
              "  </tbody>\n",
              "</table>\n",
              "</div>\n",
              "      <button class=\"colab-df-convert\" onclick=\"convertToInteractive('df-c69277dc-1cf2-4988-ace5-0c385a6a024b')\"\n",
              "              title=\"Convert this dataframe to an interactive table.\"\n",
              "              style=\"display:none;\">\n",
              "        \n",
              "  <svg xmlns=\"http://www.w3.org/2000/svg\" height=\"24px\"viewBox=\"0 0 24 24\"\n",
              "       width=\"24px\">\n",
              "    <path d=\"M0 0h24v24H0V0z\" fill=\"none\"/>\n",
              "    <path d=\"M18.56 5.44l.94 2.06.94-2.06 2.06-.94-2.06-.94-.94-2.06-.94 2.06-2.06.94zm-11 1L8.5 8.5l.94-2.06 2.06-.94-2.06-.94L8.5 2.5l-.94 2.06-2.06.94zm10 10l.94 2.06.94-2.06 2.06-.94-2.06-.94-.94-2.06-.94 2.06-2.06.94z\"/><path d=\"M17.41 7.96l-1.37-1.37c-.4-.4-.92-.59-1.43-.59-.52 0-1.04.2-1.43.59L10.3 9.45l-7.72 7.72c-.78.78-.78 2.05 0 2.83L4 21.41c.39.39.9.59 1.41.59.51 0 1.02-.2 1.41-.59l7.78-7.78 2.81-2.81c.8-.78.8-2.07 0-2.86zM5.41 20L4 18.59l7.72-7.72 1.47 1.35L5.41 20z\"/>\n",
              "  </svg>\n",
              "      </button>\n",
              "      \n",
              "  <style>\n",
              "    .colab-df-container {\n",
              "      display:flex;\n",
              "      flex-wrap:wrap;\n",
              "      gap: 12px;\n",
              "    }\n",
              "\n",
              "    .colab-df-convert {\n",
              "      background-color: #E8F0FE;\n",
              "      border: none;\n",
              "      border-radius: 50%;\n",
              "      cursor: pointer;\n",
              "      display: none;\n",
              "      fill: #1967D2;\n",
              "      height: 32px;\n",
              "      padding: 0 0 0 0;\n",
              "      width: 32px;\n",
              "    }\n",
              "\n",
              "    .colab-df-convert:hover {\n",
              "      background-color: #E2EBFA;\n",
              "      box-shadow: 0px 1px 2px rgba(60, 64, 67, 0.3), 0px 1px 3px 1px rgba(60, 64, 67, 0.15);\n",
              "      fill: #174EA6;\n",
              "    }\n",
              "\n",
              "    [theme=dark] .colab-df-convert {\n",
              "      background-color: #3B4455;\n",
              "      fill: #D2E3FC;\n",
              "    }\n",
              "\n",
              "    [theme=dark] .colab-df-convert:hover {\n",
              "      background-color: #434B5C;\n",
              "      box-shadow: 0px 1px 3px 1px rgba(0, 0, 0, 0.15);\n",
              "      filter: drop-shadow(0px 1px 2px rgba(0, 0, 0, 0.3));\n",
              "      fill: #FFFFFF;\n",
              "    }\n",
              "  </style>\n",
              "\n",
              "      <script>\n",
              "        const buttonEl =\n",
              "          document.querySelector('#df-c69277dc-1cf2-4988-ace5-0c385a6a024b button.colab-df-convert');\n",
              "        buttonEl.style.display =\n",
              "          google.colab.kernel.accessAllowed ? 'block' : 'none';\n",
              "\n",
              "        async function convertToInteractive(key) {\n",
              "          const element = document.querySelector('#df-c69277dc-1cf2-4988-ace5-0c385a6a024b');\n",
              "          const dataTable =\n",
              "            await google.colab.kernel.invokeFunction('convertToInteractive',\n",
              "                                                     [key], {});\n",
              "          if (!dataTable) return;\n",
              "\n",
              "          const docLinkHtml = 'Like what you see? Visit the ' +\n",
              "            '<a target=\"_blank\" href=https://colab.research.google.com/notebooks/data_table.ipynb>data table notebook</a>'\n",
              "            + ' to learn more about interactive tables.';\n",
              "          element.innerHTML = '';\n",
              "          dataTable['output_type'] = 'display_data';\n",
              "          await google.colab.output.renderOutput(dataTable, element);\n",
              "          const docLink = document.createElement('div');\n",
              "          docLink.innerHTML = docLinkHtml;\n",
              "          element.appendChild(docLink);\n",
              "        }\n",
              "      </script>\n",
              "    </div>\n",
              "  </div>\n",
              "  "
            ]
          },
          "metadata": {},
          "execution_count": 8
        }
      ]
    },
    {
      "cell_type": "code",
      "source": [
        "total = df.sum()\n",
        "total.name = 'Total Score'\n",
        "df = pd.concat([df, total.to_frame().T])\n",
        "df"
      ],
      "metadata": {
        "colab": {
          "base_uri": "https://localhost:8080/",
          "height": 206
        },
        "id": "2FMKNrgUIvX9",
        "outputId": "af5ce014-4877-4b69-8e3c-ef2ebb9f5c04"
      },
      "execution_count": null,
      "outputs": [
        {
          "output_type": "execute_result",
          "data": {
            "text/plain": [
              "                 Dick       Tom     Harry\n",
              "experience   0.690462  0.250741  0.058797\n",
              "education    0.083308  0.193186  0.723506\n",
              "charisma     0.215722  0.723054  0.061223\n",
              "age          0.648619  0.294638  0.056743\n",
              "Total Score  1.638111  1.461619  0.900270"
            ],
            "text/html": [
              "\n",
              "  <div id=\"df-62cae709-8cbc-47a4-b14e-2055ca48336a\">\n",
              "    <div class=\"colab-df-container\">\n",
              "      <div>\n",
              "<style scoped>\n",
              "    .dataframe tbody tr th:only-of-type {\n",
              "        vertical-align: middle;\n",
              "    }\n",
              "\n",
              "    .dataframe tbody tr th {\n",
              "        vertical-align: top;\n",
              "    }\n",
              "\n",
              "    .dataframe thead th {\n",
              "        text-align: right;\n",
              "    }\n",
              "</style>\n",
              "<table border=\"1\" class=\"dataframe\">\n",
              "  <thead>\n",
              "    <tr style=\"text-align: right;\">\n",
              "      <th></th>\n",
              "      <th>Dick</th>\n",
              "      <th>Tom</th>\n",
              "      <th>Harry</th>\n",
              "    </tr>\n",
              "  </thead>\n",
              "  <tbody>\n",
              "    <tr>\n",
              "      <th>experience</th>\n",
              "      <td>0.690462</td>\n",
              "      <td>0.250741</td>\n",
              "      <td>0.058797</td>\n",
              "    </tr>\n",
              "    <tr>\n",
              "      <th>education</th>\n",
              "      <td>0.083308</td>\n",
              "      <td>0.193186</td>\n",
              "      <td>0.723506</td>\n",
              "    </tr>\n",
              "    <tr>\n",
              "      <th>charisma</th>\n",
              "      <td>0.215722</td>\n",
              "      <td>0.723054</td>\n",
              "      <td>0.061223</td>\n",
              "    </tr>\n",
              "    <tr>\n",
              "      <th>age</th>\n",
              "      <td>0.648619</td>\n",
              "      <td>0.294638</td>\n",
              "      <td>0.056743</td>\n",
              "    </tr>\n",
              "    <tr>\n",
              "      <th>Total Score</th>\n",
              "      <td>1.638111</td>\n",
              "      <td>1.461619</td>\n",
              "      <td>0.900270</td>\n",
              "    </tr>\n",
              "  </tbody>\n",
              "</table>\n",
              "</div>\n",
              "      <button class=\"colab-df-convert\" onclick=\"convertToInteractive('df-62cae709-8cbc-47a4-b14e-2055ca48336a')\"\n",
              "              title=\"Convert this dataframe to an interactive table.\"\n",
              "              style=\"display:none;\">\n",
              "        \n",
              "  <svg xmlns=\"http://www.w3.org/2000/svg\" height=\"24px\"viewBox=\"0 0 24 24\"\n",
              "       width=\"24px\">\n",
              "    <path d=\"M0 0h24v24H0V0z\" fill=\"none\"/>\n",
              "    <path d=\"M18.56 5.44l.94 2.06.94-2.06 2.06-.94-2.06-.94-.94-2.06-.94 2.06-2.06.94zm-11 1L8.5 8.5l.94-2.06 2.06-.94-2.06-.94L8.5 2.5l-.94 2.06-2.06.94zm10 10l.94 2.06.94-2.06 2.06-.94-2.06-.94-.94-2.06-.94 2.06-2.06.94z\"/><path d=\"M17.41 7.96l-1.37-1.37c-.4-.4-.92-.59-1.43-.59-.52 0-1.04.2-1.43.59L10.3 9.45l-7.72 7.72c-.78.78-.78 2.05 0 2.83L4 21.41c.39.39.9.59 1.41.59.51 0 1.02-.2 1.41-.59l7.78-7.78 2.81-2.81c.8-.78.8-2.07 0-2.86zM5.41 20L4 18.59l7.72-7.72 1.47 1.35L5.41 20z\"/>\n",
              "  </svg>\n",
              "      </button>\n",
              "      \n",
              "  <style>\n",
              "    .colab-df-container {\n",
              "      display:flex;\n",
              "      flex-wrap:wrap;\n",
              "      gap: 12px;\n",
              "    }\n",
              "\n",
              "    .colab-df-convert {\n",
              "      background-color: #E8F0FE;\n",
              "      border: none;\n",
              "      border-radius: 50%;\n",
              "      cursor: pointer;\n",
              "      display: none;\n",
              "      fill: #1967D2;\n",
              "      height: 32px;\n",
              "      padding: 0 0 0 0;\n",
              "      width: 32px;\n",
              "    }\n",
              "\n",
              "    .colab-df-convert:hover {\n",
              "      background-color: #E2EBFA;\n",
              "      box-shadow: 0px 1px 2px rgba(60, 64, 67, 0.3), 0px 1px 3px 1px rgba(60, 64, 67, 0.15);\n",
              "      fill: #174EA6;\n",
              "    }\n",
              "\n",
              "    [theme=dark] .colab-df-convert {\n",
              "      background-color: #3B4455;\n",
              "      fill: #D2E3FC;\n",
              "    }\n",
              "\n",
              "    [theme=dark] .colab-df-convert:hover {\n",
              "      background-color: #434B5C;\n",
              "      box-shadow: 0px 1px 3px 1px rgba(0, 0, 0, 0.15);\n",
              "      filter: drop-shadow(0px 1px 2px rgba(0, 0, 0, 0.3));\n",
              "      fill: #FFFFFF;\n",
              "    }\n",
              "  </style>\n",
              "\n",
              "      <script>\n",
              "        const buttonEl =\n",
              "          document.querySelector('#df-62cae709-8cbc-47a4-b14e-2055ca48336a button.colab-df-convert');\n",
              "        buttonEl.style.display =\n",
              "          google.colab.kernel.accessAllowed ? 'block' : 'none';\n",
              "\n",
              "        async function convertToInteractive(key) {\n",
              "          const element = document.querySelector('#df-62cae709-8cbc-47a4-b14e-2055ca48336a');\n",
              "          const dataTable =\n",
              "            await google.colab.kernel.invokeFunction('convertToInteractive',\n",
              "                                                     [key], {});\n",
              "          if (!dataTable) return;\n",
              "\n",
              "          const docLinkHtml = 'Like what you see? Visit the ' +\n",
              "            '<a target=\"_blank\" href=https://colab.research.google.com/notebooks/data_table.ipynb>data table notebook</a>'\n",
              "            + ' to learn more about interactive tables.';\n",
              "          element.innerHTML = '';\n",
              "          dataTable['output_type'] = 'display_data';\n",
              "          await google.colab.output.renderOutput(dataTable, element);\n",
              "          const docLink = document.createElement('div');\n",
              "          docLink.innerHTML = docLinkHtml;\n",
              "          element.appendChild(docLink);\n",
              "        }\n",
              "      </script>\n",
              "    </div>\n",
              "  </div>\n",
              "  "
            ]
          },
          "metadata": {},
          "execution_count": 9
        }
      ]
    },
    {
      "cell_type": "code",
      "source": [
        "#Contoh lain dari program yang mengimplementasikan metode AHP\n",
        "\n",
        "# Membuat matriks perbandingan berpasangan\n",
        "def create_pairwise_matrix(n):\n",
        "    matrix = np.zeros((n, n))\n",
        "    for i in range(n):\n",
        "        for j in range(i+1, n):\n",
        "            value = float(input(f\"Masukkan nilai perbandingan {i+1}/{j+1}: \"))\n",
        "            matrix[i][j] = value\n",
        "            matrix[j][i] = 1 / value\n",
        "    return matrix\n",
        "\n",
        "# Menghitung bobot relatif\n",
        "def calculate_weights(matrix):\n",
        "    eigenvalues, eigenvectors = np.linalg.eig(matrix)\n",
        "    max_eigenvalue_index = np.argmax(eigenvalues)\n",
        "    max_eigenvector = eigenvectors[:, max_eigenvalue_index]\n",
        "    weights = max_eigenvector / np.sum(max_eigenvector)\n",
        "    return weights\n",
        "\n",
        "# Menghitung skor total\n",
        "def calculate_scores(matrix, weights):\n",
        "    n = matrix.shape[0]\n",
        "    scores = np.zeros(n)\n",
        "    for i in range(n):\n",
        "        scores[i] = np.sum(matrix[i] * weights)\n",
        "    return scores\n",
        "\n",
        "# Main program\n",
        "n = int(input(\"Masukkan jumlah kriteria: \"))\n",
        "matrix = create_pairwise_matrix(n)\n",
        "weights = calculate_weights(matrix)\n",
        "scores = calculate_scores(matrix, weights)\n",
        "\n",
        "print(\"Bobot relatif:\")\n",
        "for i in range(n):\n",
        "    print(f\"Kriteria {i+1}: {weights[i]}\")\n",
        "\n",
        "print(\"\\nSkor total:\")\n",
        "for i in range(n):\n",
        "    print(f\"Opsi {i+1}: {scores[i]}\")\n"
      ],
      "metadata": {
        "colab": {
          "base_uri": "https://localhost:8080/"
        },
        "id": "RIyU8TrbI5vp",
        "outputId": "99dd1539-2c6d-47dd-b840-9b21d808effd"
      },
      "execution_count": 12,
      "outputs": [
        {
          "output_type": "stream",
          "name": "stdout",
          "text": [
            "Masukkan jumlah kriteria: 3\n",
            "Masukkan nilai perbandingan 1/2: 0.666666666667\n",
            "Masukkan nilai perbandingan 1/3: 0.5\n",
            "Masukkan nilai perbandingan 2/3: 0.75\n",
            "Bobot relatif:\n",
            "Kriteria 1: (0.2222222222222634-0j)\n",
            "Kriteria 2: (0.33333333333328397-0j)\n",
            "Kriteria 3: (0.44444444444445264-0j)\n",
            "\n",
            "Skor total:\n",
            "Opsi 1: 0.44444444444452674\n",
            "Opsi 2: 0.6666666666665679\n",
            "Opsi 3: 0.8888888888889054\n"
          ]
        },
        {
          "output_type": "stream",
          "name": "stderr",
          "text": [
            "<ipython-input-12-4e461d6f51a0>:26: ComplexWarning: Casting complex values to real discards the imaginary part\n",
            "  scores[i] = np.sum(matrix[i] * weights)\n"
          ]
        }
      ]
    }
  ]
}