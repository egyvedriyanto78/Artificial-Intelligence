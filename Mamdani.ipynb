{
  "nbformat": 4,
  "nbformat_minor": 0,
  "metadata": {
    "colab": {
      "provenance": [],
      "authorship_tag": "ABX9TyOn4OrRuCiAdbzUCXAA5EpH",
      "include_colab_link": true
    },
    "kernelspec": {
      "name": "python3",
      "display_name": "Python 3"
    },
    "language_info": {
      "name": "python"
    }
  },
  "cells": [
    {
      "cell_type": "markdown",
      "metadata": {
        "id": "view-in-github",
        "colab_type": "text"
      },
      "source": [
        "<a href=\"https://colab.research.google.com/github/egyvedriyanto78/Artificial-Intelligence/blob/main/Mamdani.ipynb\" target=\"_parent\"><img src=\"https://colab.research.google.com/assets/colab-badge.svg\" alt=\"Open In Colab\"/></a>"
      ]
    },
    {
      "cell_type": "markdown",
      "source": [
        "# Fuzzy Logic Mamdani\n",
        "Karakteristik:\n",
        "\n",
        "*   Salah satu metode fuzzy logic paling populer.\n",
        "*   Menggunakan aturan IF-THEN dengan output fuzzy.\n",
        "*   Defuzzifikasi biasanya dilakukan dengan metode centroid.\n",
        "\n",
        "\n",
        "Contoh Kasus:\n",
        "*   Pengontrol suhu ruangan: Menggunakan suhu dan kelembaban sebagai input untuk mengontrol suhu ruangan."
      ],
      "metadata": {
        "id": "AALhZHNvlc2h"
      }
    },
    {
      "cell_type": "code",
      "source": [
        "!pip install scikit-fuzzy"
      ],
      "metadata": {
        "colab": {
          "base_uri": "https://localhost:8080/"
        },
        "id": "N8U0KL89nc79",
        "outputId": "8d86154e-e750-453a-c163-fccf0024b36a"
      },
      "execution_count": 2,
      "outputs": [
        {
          "output_type": "stream",
          "name": "stdout",
          "text": [
            "Collecting scikit-fuzzy\n",
            "  Downloading scikit-fuzzy-0.4.2.tar.gz (993 kB)\n",
            "\u001b[2K     \u001b[90m━━━━━━━━━━━━━━━━━━━━━━━━━━━━━━━━━━━━━━━━\u001b[0m \u001b[32m994.0/994.0 kB\u001b[0m \u001b[31m7.5 MB/s\u001b[0m eta \u001b[36m0:00:00\u001b[0m\n",
            "\u001b[?25h  Preparing metadata (setup.py) ... \u001b[?25l\u001b[?25hdone\n",
            "Requirement already satisfied: numpy>=1.6.0 in /usr/local/lib/python3.10/dist-packages (from scikit-fuzzy) (1.25.2)\n",
            "Requirement already satisfied: scipy>=0.9.0 in /usr/local/lib/python3.10/dist-packages (from scikit-fuzzy) (1.11.4)\n",
            "Requirement already satisfied: networkx>=1.9.0 in /usr/local/lib/python3.10/dist-packages (from scikit-fuzzy) (3.3)\n",
            "Building wheels for collected packages: scikit-fuzzy\n",
            "  Building wheel for scikit-fuzzy (setup.py) ... \u001b[?25l\u001b[?25hdone\n",
            "  Created wheel for scikit-fuzzy: filename=scikit_fuzzy-0.4.2-py3-none-any.whl size=894078 sha256=4f1ad27fbc5d565feeb75dbde1554068236ada7c424aa94a71f24d87146c2ebd\n",
            "  Stored in directory: /root/.cache/pip/wheels/4f/86/1b/dfd97134a2c8313e519bcebd95d3fedc7be7944db022094bc8\n",
            "Successfully built scikit-fuzzy\n",
            "Installing collected packages: scikit-fuzzy\n",
            "Successfully installed scikit-fuzzy-0.4.2\n"
          ]
        }
      ]
    },
    {
      "cell_type": "code",
      "source": [
        "import numpy as np\n",
        "import skfuzzy as fuzz\n",
        "from skfuzzy import control as ctrl\n",
        "\n",
        "# Variabel Input\n",
        "suhu = ctrl.Antecedent(np.arange(0, 41, 1), 'suhu')\n",
        "kelembaban = ctrl.Antecedent(np.arange(0, 101, 1), 'kelembaban')\n",
        "\n",
        "# Variabel Output\n",
        "kipas = ctrl.Consequent(np.arange(0, 101, 1), 'kipas')\n",
        "\n",
        "# Fungsi Keanggotaan Input\n",
        "suhu['rendah'] = fuzz.trapmf(suhu.universe, [0, 0, 10, 20])\n",
        "suhu['sedang'] = fuzz.trapmf(suhu.universe, [15, 20, 25, 30])\n",
        "suhu['tinggi'] = fuzz.trapmf(suhu.universe, [25, 30, 40, 40])\n",
        "\n",
        "kelembaban['rendah'] = fuzz.trapmf(kelembaban.universe, [0, 0, 20, 40])\n",
        "kelembaban['sedang'] = fuzz.trapmf(kelembaban.universe, [30, 50, 50, 70])\n",
        "kelembaban['tinggi'] = fuzz.trapmf(kelembaban.universe, [60, 80, 100, 100])\n",
        "\n",
        "# Fungsi Keanggotaan Output\n",
        "kipas['rendah'] = fuzz.trimf(kipas.universe, [0, 0, 50])\n",
        "kipas['sedang'] = fuzz.trimf(kipas.universe, [0, 50, 100])\n",
        "kipas['tinggi'] = fuzz.trimf(kipas.universe, [50, 100, 100])\n",
        "\n",
        "# Aturan Fuzzy\n",
        "rule1 = ctrl.Rule(suhu['rendah'] & kelembaban['rendah'], kipas['rendah'])\n",
        "rule2 = ctrl.Rule(suhu['sedang'] & kelembaban['sedang'], kipas['sedang'])\n",
        "rule3 = ctrl.Rule(suhu['tinggi'] & kelembaban['tinggi'], kipas['tinggi'])\n",
        "\n",
        "# Sistem Kontrol\n",
        "kipas_ctrl = ctrl.ControlSystem([rule1, rule2, rule3])\n",
        "kipas_simulasi = ctrl.ControlSystemSimulation(kipas_ctrl)\n",
        "\n",
        "# Input\n",
        "kipas_simulasi.input['suhu'] = 28\n",
        "kipas_simulasi.input['kelembaban'] = 70\n",
        "\n",
        "# Kalkulasi\n",
        "kipas_simulasi.compute()\n",
        "print(kipas_simulasi.output['kipas'])\n"
      ],
      "metadata": {
        "colab": {
          "base_uri": "https://localhost:8080/"
        },
        "id": "Jmr3xyy5letr",
        "outputId": "1f61c3c9-064e-46ab-9828-919bef71e6ac"
      },
      "execution_count": 6,
      "outputs": [
        {
          "output_type": "stream",
          "name": "stdout",
          "text": [
            "80.55555555555556\n"
          ]
        }
      ]
    }
  ]
}