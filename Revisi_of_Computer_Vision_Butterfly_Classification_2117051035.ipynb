{
  "cells": [
    {
      "cell_type": "markdown",
      "metadata": {
        "id": "TngFiAGLCLwS"
      },
      "source": [
        "# Computer Vision"
      ]
    },
    {
      "cell_type": "markdown",
      "metadata": {
        "id": "WjCO11jFNBAZ"
      },
      "source": [
        "Studi Kasus:\n",
        "\n",
        "Klasifikasi gambar kupu-kupu dari 8 jenis berbeda yang masing-masing jenis memiliki kurang lebih 100 gambar berbeda.\n",
        "\n",
        "Model yang akan saya gunakan antara lain\n",
        "1.   MobileNet-v2\n",
        "2.   AlexNet\n",
        "3.   Inception-v3\n"
      ]
    },
    {
      "cell_type": "markdown",
      "metadata": {
        "id": "pnKGLG-ROl-S"
      },
      "source": [
        "## Implementasi"
      ]
    },
    {
      "cell_type": "markdown",
      "metadata": {
        "id": "W_MDvbVDOzPU"
      },
      "source": [
        "### Library and Preparation"
      ]
    },
    {
      "cell_type": "code",
      "execution_count": 2,
      "metadata": {
        "colab": {
          "base_uri": "https://localhost:8080/"
        },
        "id": "9uJXWcUhO03T",
        "outputId": "fb4895b9-fe3f-40cc-cf6a-2dbbf6da9f63"
      },
      "outputs": [
        {
          "output_type": "stream",
          "name": "stderr",
          "text": [
            "/usr/local/lib/python3.10/dist-packages/torchvision/models/_utils.py:208: UserWarning: The parameter 'pretrained' is deprecated since 0.13 and may be removed in the future, please use 'weights' instead.\n",
            "  warnings.warn(\n",
            "/usr/local/lib/python3.10/dist-packages/torchvision/models/_utils.py:223: UserWarning: Arguments other than a weight enum or `None` for 'weights' are deprecated since 0.13 and may be removed in the future. The current behavior is equivalent to passing `weights=AlexNet_Weights.IMAGENET1K_V1`. You can also use `weights=AlexNet_Weights.DEFAULT` to get the most up-to-date weights.\n",
            "  warnings.warn(msg)\n",
            "Downloading: \"https://download.pytorch.org/models/alexnet-owt-7be5be79.pth\" to /root/.cache/torch/hub/checkpoints/alexnet-owt-7be5be79.pth\n",
            "100%|██████████| 233M/233M [00:03<00:00, 76.9MB/s]\n",
            "/usr/local/lib/python3.10/dist-packages/torchvision/models/_utils.py:223: UserWarning: Arguments other than a weight enum or `None` for 'weights' are deprecated since 0.13 and may be removed in the future. The current behavior is equivalent to passing `weights=MobileNet_V2_Weights.IMAGENET1K_V1`. You can also use `weights=MobileNet_V2_Weights.DEFAULT` to get the most up-to-date weights.\n",
            "  warnings.warn(msg)\n",
            "Downloading: \"https://download.pytorch.org/models/mobilenet_v2-b0353104.pth\" to /root/.cache/torch/hub/checkpoints/mobilenet_v2-b0353104.pth\n",
            "100%|██████████| 13.6M/13.6M [00:00<00:00, 48.2MB/s]\n",
            "/usr/local/lib/python3.10/dist-packages/torchvision/models/_utils.py:223: UserWarning: Arguments other than a weight enum or `None` for 'weights' are deprecated since 0.13 and may be removed in the future. The current behavior is equivalent to passing `weights=Inception_V3_Weights.IMAGENET1K_V1`. You can also use `weights=Inception_V3_Weights.DEFAULT` to get the most up-to-date weights.\n",
            "  warnings.warn(msg)\n",
            "Downloading: \"https://download.pytorch.org/models/inception_v3_google-0cc3c7bd.pth\" to /root/.cache/torch/hub/checkpoints/inception_v3_google-0cc3c7bd.pth\n",
            "100%|██████████| 104M/104M [00:01<00:00, 60.6MB/s] \n"
          ]
        }
      ],
      "source": [
        "import torch\n",
        "import torchvision\n",
        "import torchvision.transforms as transforms\n",
        "import torch.nn as nn\n",
        "import torch.optim as optim\n",
        "from torch.utils.data import DataLoader, random_split\n",
        "from sklearn.metrics import accuracy_score\n",
        "\n",
        "# Keperluan untuk splitting data\n",
        "from sklearn.model_selection import train_test_split\n",
        "\n",
        "# Menggunakan AlexNet\n",
        "alexnet = torchvision.models.alexnet(pretrained=True)\n",
        "\n",
        "# Menggunakan MobileNetV2\n",
        "mobilenet_v2 = torchvision.models.mobilenet_v2(pretrained=True)\n",
        "\n",
        "# Menggunakan InceptionV3\n",
        "inception_v3 = torchvision.models.inception_v3(pretrained=True)\n",
        "\n",
        "# Transformasi untuk preprocessing data\n",
        "transform = transforms.Compose([\n",
        "    transforms.Resize(256),\n",
        "    transforms.ToTensor(),\n",
        "    transforms.Normalize(mean=[0.485, 0.456, 0.406], std=[0.229, 0.224, 0.225]),\n",
        "])"
      ]
    },
    {
      "cell_type": "markdown",
      "metadata": {
        "id": "6IbFH8NKQ36O"
      },
      "source": [
        "### Dataset"
      ]
    },
    {
      "cell_type": "code",
      "execution_count": 3,
      "metadata": {
        "colab": {
          "base_uri": "https://localhost:8080/"
        },
        "id": "MzCKSD9PRBxn",
        "outputId": "7f4c6f58-0274-4b91-dc21-492789e3a3da"
      },
      "outputs": [
        {
          "output_type": "stream",
          "name": "stdout",
          "text": [
            "Mounted at /content/drive\n"
          ]
        }
      ],
      "source": [
        "from google.colab import drive\n",
        "drive.mount('/content/drive')"
      ]
    },
    {
      "cell_type": "code",
      "execution_count": 4,
      "metadata": {
        "colab": {
          "base_uri": "https://localhost:8080/"
        },
        "id": "BTUmCsQWdGtp",
        "outputId": "f5d98763-6287-4347-8b46-c20a7729e255"
      },
      "outputs": [
        {
          "output_type": "execute_result",
          "data": {
            "text/plain": [
              "['kupu_jojo',\n",
              " 'kupu_raja_limau',\n",
              " 'kupu_hijau_biru',\n",
              " 'kupu_raja_helena',\n",
              " 'kupu_pantat_merah',\n",
              " 'kupu_jarak',\n",
              " 'kupu_harimau_kuning_hijau',\n",
              " 'kupu_batik_cap']"
            ]
          },
          "metadata": {},
          "execution_count": 4
        }
      ],
      "source": [
        "import os\n",
        "\n",
        "folder_path = '/content/drive/My Drive/Computer Vision/butterfly_dataset'\n",
        "\n",
        "os.listdir(folder_path)"
      ]
    },
    {
      "cell_type": "code",
      "execution_count": 5,
      "metadata": {
        "id": "k-3Qga6veOLg"
      },
      "outputs": [],
      "source": [
        "from torchvision.datasets import ImageFolder\n",
        "\n",
        "dataset = ImageFolder(root=folder_path, transform=transform)"
      ]
    },
    {
      "cell_type": "markdown",
      "metadata": {
        "id": "bwxQLjOJeSR1"
      },
      "source": [
        "### Preprocessing"
      ]
    },
    {
      "cell_type": "code",
      "execution_count": 6,
      "metadata": {
        "id": "Uk7NywsLeWeb"
      },
      "outputs": [],
      "source": [
        "# 1. Data Augmentation\n",
        "train_transform = transforms.Compose([\n",
        "    transforms.Resize(256),\n",
        "    transforms.RandomResizedCrop(224),\n",
        "    transforms.RandomHorizontalFlip(),\n",
        "    transforms.ToTensor(),\n",
        "    transforms.Normalize(mean=[0.485, 0.456, 0.406], std=[0.229, 0.224, 0.225]),\n",
        "])\n",
        "\n",
        "# 2. Memisahkan Data Validasi\n",
        "dataset = ImageFolder(root=folder_path, transform=train_transform)\n",
        "train_size = int(0.8 * len(dataset))\n",
        "val_size = len(dataset) - train_size\n",
        "train_dataset, val_dataset = random_split(dataset, [train_size, val_size])"
      ]
    },
    {
      "cell_type": "code",
      "execution_count": 7,
      "metadata": {
        "id": "6bi9CmETmeMW"
      },
      "outputs": [],
      "source": [
        "batch_size = 32"
      ]
    },
    {
      "cell_type": "code",
      "execution_count": 8,
      "metadata": {
        "id": "kbPhUPgBmjfT"
      },
      "outputs": [],
      "source": [
        "# Buat DataLoader untuk data latih dan data validasi\n",
        "train_loader = DataLoader(train_dataset, batch_size=batch_size, shuffle=True)\n",
        "val_loader = DataLoader(val_dataset, batch_size=batch_size, shuffle=False)"
      ]
    },
    {
      "cell_type": "markdown",
      "metadata": {
        "id": "z9dQs2Yzm0IS"
      },
      "source": [
        "### Modeling"
      ]
    },
    {
      "cell_type": "code",
      "execution_count": 9,
      "metadata": {
        "id": "ZcTpwEzVm2fG"
      },
      "outputs": [],
      "source": [
        "# Import model sudah dilakukan di tahap preparation\n",
        "\n",
        "# 1. MobileNet-v2\n",
        "\n",
        "# Ambil dataset asli sebelum dibagi\n",
        "original_dataset = train_dataset.dataset\n",
        "\n",
        "# Hitung jumlah kelas dari dataset asli\n",
        "num_classes = len(original_dataset.classes)\n",
        "\n",
        "# Membuat model baru\n",
        "num_features = mobilenet_v2.features[-1].out_channels  # Jumlah fitur masuk untuk lapisan terakhir\n",
        "mobilenet_v2.classifier = nn.Sequential(\n",
        "    nn.Linear(num_features, 512),\n",
        "    nn.ReLU(inplace=True),\n",
        "    nn.Dropout(0.5),\n",
        "    nn.Linear(512, num_classes)\n",
        ")\n",
        "\n",
        "# Menentukan device yang akan digunakan (CPU atau CUDA jika tersedia)\n",
        "device = torch.device(\"cuda\" if torch.cuda.is_available() else \"cpu\")\n",
        "\n",
        "# Memindahkan model ke device yang dipilih\n",
        "mobilenet_v2 = mobilenet_v2.to(device)\n",
        "\n",
        "# Definisi loss function dan optimizer\n",
        "criterion = nn.CrossEntropyLoss()\n",
        "optimizer = torch.optim.Adam(mobilenet_v2.parameters(), lr=0.001)\n"
      ]
    },
    {
      "cell_type": "markdown",
      "metadata": {
        "id": "sWjonVFGqqoz"
      },
      "source": [
        "#### Training model"
      ]
    },
    {
      "cell_type": "code",
      "execution_count": 10,
      "metadata": {
        "colab": {
          "base_uri": "https://localhost:8080/"
        },
        "id": "ehuUyVRaqvBr",
        "outputId": "b33259d2-7914-4db2-a3c1-2d1dd5c20d71"
      },
      "outputs": [
        {
          "output_type": "stream",
          "name": "stdout",
          "text": [
            "Epoch 1/10, Loss: 0.5828, Accuracy: 0.8176\n",
            "Epoch 2/10, Loss: 0.1966, Accuracy: 0.9355\n",
            "Epoch 3/10, Loss: 0.2874, Accuracy: 0.9292\n",
            "Epoch 4/10, Loss: 0.2815, Accuracy: 0.9214\n",
            "Epoch 5/10, Loss: 0.2028, Accuracy: 0.9355\n",
            "Epoch 6/10, Loss: 0.1125, Accuracy: 0.9686\n",
            "Epoch 7/10, Loss: 0.1597, Accuracy: 0.9670\n",
            "Epoch 8/10, Loss: 0.2215, Accuracy: 0.9387\n",
            "Epoch 9/10, Loss: 0.2129, Accuracy: 0.9450\n",
            "Epoch 10/10, Loss: 0.1815, Accuracy: 0.9418\n"
          ]
        }
      ],
      "source": [
        "# Tentukan jumlah epoch\n",
        "num_epochs = 10\n",
        "\n",
        "# Definisikan loss function dan optimizer\n",
        "criterion = nn.CrossEntropyLoss()\n",
        "optimizer = optim.Adam(mobilenet_v2.parameters(), lr=0.001)\n",
        "\n",
        "# Tentukan device yang akan digunakan (CPU atau CUDA jika tersedia)\n",
        "device = torch.device(\"cuda\" if torch.cuda.is_available() else \"cpu\")\n",
        "\n",
        "# Memindahkan model ke device yang dipilih\n",
        "mobilenet_v2 = mobilenet_v2.to(device)\n",
        "\n",
        "# Loop pelatihan untuk setiap epoch\n",
        "for epoch in range(num_epochs):\n",
        "    # Set model ke mode pelatihan\n",
        "    mobilenet_v2.train()\n",
        "\n",
        "    # Inisialisasi nilai loss dan jumlah batch yang benar\n",
        "    running_loss = 0.0\n",
        "    correct = 0\n",
        "\n",
        "    # Loop pelatihan untuk setiap batch dalam DataLoader\n",
        "    for images, labels in train_loader:\n",
        "        # Memindahkan data ke device yang dipilih\n",
        "        images, labels = images.to(device), labels.to(device)\n",
        "\n",
        "        # Reset gradien parameter\n",
        "        optimizer.zero_grad()\n",
        "\n",
        "        # Proses forward pass: menghitung output dari model\n",
        "        outputs = mobilenet_v2(images)\n",
        "\n",
        "        # Hitung loss\n",
        "        loss = criterion(outputs, labels)\n",
        "\n",
        "        # Proses backward pass: hitung gradien dari loss terhadap parameter\n",
        "        loss.backward()\n",
        "\n",
        "        # Optimize parameter\n",
        "        optimizer.step()\n",
        "\n",
        "        # Hitung statistik untuk logging\n",
        "        running_loss += loss.item() * images.size(0)\n",
        "        _, predicted = torch.max(outputs, 1)\n",
        "        correct += (predicted == labels).sum().item()\n",
        "\n",
        "    # Hitung rata-rata loss dan akurasi untuk epoch ini\n",
        "    epoch_loss = running_loss / len(train_dataset)\n",
        "    epoch_acc = correct / len(train_dataset)\n",
        "\n",
        "    # Cetak statistik pelatihan untuk setiap epoch\n",
        "    print(f'Epoch {epoch+1}/{num_epochs}, Loss: {epoch_loss:.4f}, Accuracy: {epoch_acc:.4f}')\n"
      ]
    },
    {
      "cell_type": "markdown",
      "metadata": {
        "id": "vWiDWAgJ1Q87"
      },
      "source": [
        "#### Model Evaluation"
      ]
    },
    {
      "cell_type": "code",
      "execution_count": 11,
      "metadata": {
        "id": "W40cGqWg1hBQ",
        "colab": {
          "base_uri": "https://localhost:8080/"
        },
        "outputId": "1d858703-119f-4d3f-cc34-fc2f0bbc487c"
      },
      "outputs": [
        {
          "output_type": "stream",
          "name": "stdout",
          "text": [
            "Accuracy on validation set: 0.97\n"
          ]
        }
      ],
      "source": [
        "# Set model ke mode evaluasi\n",
        "mobilenet_v2.eval()\n",
        "\n",
        "# Inisialisasi variabel untuk evaluasi\n",
        "correct = 0\n",
        "total = 0\n",
        "\n",
        "# Tidak perlu melacak gradien saat melakukan evaluasi\n",
        "with torch.no_grad():\n",
        "    for images, labels in val_loader:\n",
        "        # Memindahkan data ke device yang dipilih\n",
        "        images, labels = images.to(device), labels.to(device)\n",
        "\n",
        "        # Forward pass\n",
        "        outputs = mobilenet_v2(images)\n",
        "\n",
        "        # Ambil prediksi\n",
        "        _, predicted = torch.max(outputs, 1)\n",
        "\n",
        "        # Hitung jumlah data yang diprediksi dengan benar\n",
        "        total += labels.size(0)\n",
        "        correct += (predicted == labels).sum().item()\n",
        "\n",
        "# Hitung akurasi\n",
        "accuracy = correct / total\n",
        "print(f'Accuracy on validation set: {accuracy:.2f}')"
      ]
    },
    {
      "cell_type": "code",
      "execution_count": 24,
      "metadata": {
        "id": "PYxNJ5ONCnEZ",
        "colab": {
          "base_uri": "https://localhost:8080/",
          "height": 718
        },
        "outputId": "37a8846a-45b9-4f50-82a1-0c3b4ebd0e54"
      },
      "outputs": [
        {
          "output_type": "display_data",
          "data": {
            "text/plain": [
              "<Figure size 1000x800 with 2 Axes>"
            ],
            "image/png": "[encoded data removed]"
          },
          "metadata": {}
        }
      ],
      "source": [
        "from sklearn.metrics import confusion_matrix\n",
        "import seaborn as sns\n",
        "import matplotlib.pyplot as plt\n",
        "\n",
        "# Mengumpulkan label sebenarnya\n",
        "true_labels = []\n",
        "predicted_labels = []\n",
        "\n",
        "with torch.no_grad():\n",
        "    for images, labels in val_loader:\n",
        "        images, labels = images.to(device), labels.to(device)\n",
        "        outputs = mobilenet_v2(images)\n",
        "        _, predicted = torch.max(outputs, 1)\n",
        "        true_labels.extend(labels.cpu().numpy())\n",
        "        predicted_labels.extend(predicted.cpu().numpy())\n",
        "\n",
        "# Hitung confusion matrix\n",
        "conf_matrix = confusion_matrix(true_labels, predicted_labels)\n",
        "\n",
        "# Tampilkan confusion matrix dengan heatmap\n",
        "plt.figure(figsize=(10, 8))\n",
        "sns.heatmap(conf_matrix, annot=True, fmt='d', cmap='Blues')\n",
        "plt.xlabel('Predicted')\n",
        "plt.ylabel('True')\n",
        "plt.title('Confusion Matrix')\n",
        "plt.show()"
      ]
    },
    {
      "cell_type": "code",
      "source": [
        "# Menghitung TP, FP, TN, dan FN untuk setiap label\n",
        "for i in range(conf_matrix.shape[0]):\n",
        "    tp = conf_matrix[i, i]\n",
        "    fp = conf_matrix[:, i].sum() - tp\n",
        "    fn = conf_matrix[i, :].sum() - tp\n",
        "    tn = conf_matrix.sum() - (tp + fp + fn)\n",
        "\n",
        "    # Menampilkan nilai untuk setiap label\n",
        "    print(f'Label {i+1}:')\n",
        "    print(f'True Positive (TP): {tp}')\n",
        "    print(f'False Positive (FP): {fp}')\n",
        "    print(f'True Negative (TN): {tn}')\n",
        "    print(f'False Negative (FN): {fn}')\n",
        "    print()"
      ],
      "metadata": {
        "colab": {
          "base_uri": "https://localhost:8080/"
        },
        "id": "WAYPlZFwjVko",
        "outputId": "64c911ed-46f4-470a-f826-c7e6de344511"
      },
      "execution_count": 25,
      "outputs": [
        {
          "output_type": "stream",
          "name": "stdout",
          "text": [
            "Label 1:\n",
            "True Positive (TP): 18\n",
            "False Positive (FP): 0\n",
            "True Negative (TN): 141\n",
            "False Negative (FN): 0\n",
            "\n",
            "Label 2:\n",
            "True Positive (TP): 19\n",
            "False Positive (FP): 2\n",
            "True Negative (TN): 138\n",
            "False Negative (FN): 0\n",
            "\n",
            "Label 3:\n",
            "True Positive (TP): 12\n",
            "False Positive (FP): 2\n",
            "True Negative (TN): 145\n",
            "False Negative (FN): 0\n",
            "\n",
            "Label 4:\n",
            "True Positive (TP): 22\n",
            "False Positive (FP): 0\n",
            "True Negative (TN): 137\n",
            "False Negative (FN): 0\n",
            "\n",
            "Label 5:\n",
            "True Positive (TP): 20\n",
            "False Positive (FP): 0\n",
            "True Negative (TN): 137\n",
            "False Negative (FN): 2\n",
            "\n",
            "Label 6:\n",
            "True Positive (TP): 17\n",
            "False Positive (FP): 0\n",
            "True Negative (TN): 141\n",
            "False Negative (FN): 1\n",
            "\n",
            "Label 7:\n",
            "True Positive (TP): 26\n",
            "False Positive (FP): 1\n",
            "True Negative (TN): 132\n",
            "False Negative (FN): 0\n",
            "\n",
            "Label 8:\n",
            "True Positive (TP): 20\n",
            "False Positive (FP): 0\n",
            "True Negative (TN): 137\n",
            "False Negative (FN): 2\n",
            "\n"
          ]
        }
      ]
    },
    {
      "cell_type": "code",
      "source": [
        "from sklearn.metrics import classification_report\n",
        "\n",
        "# Tampilkan laporan klasifikasi\n",
        "report = classification_report(true_labels, predicted_labels)\n",
        "print(report)"
      ],
      "metadata": {
        "colab": {
          "base_uri": "https://localhost:8080/"
        },
        "id": "INK4Bu2vZ-Z7",
        "outputId": "cc4533bd-29f2-43a4-b1a9-c6cadd597e0c"
      },
      "execution_count": 26,
      "outputs": [
        {
          "output_type": "stream",
          "name": "stdout",
          "text": [
            "              precision    recall  f1-score   support\n",
            "\n",
            "           0       1.00      1.00      1.00        18\n",
            "           1       0.90      1.00      0.95        19\n",
            "           2       0.86      1.00      0.92        12\n",
            "           3       1.00      1.00      1.00        22\n",
            "           4       1.00      0.91      0.95        22\n",
            "           5       1.00      0.94      0.97        18\n",
            "           6       0.96      1.00      0.98        26\n",
            "           7       1.00      0.91      0.95        22\n",
            "\n",
            "    accuracy                           0.97       159\n",
            "   macro avg       0.97      0.97      0.97       159\n",
            "weighted avg       0.97      0.97      0.97       159\n",
            "\n"
          ]
        }
      ]
    },
    {
      "cell_type": "markdown",
      "metadata": {
        "id": "gDRfeSAK5DMR"
      },
      "source": [
        "#### Comparing Model"
      ]
    },
    {
      "cell_type": "markdown",
      "metadata": {
        "id": "QVGGJMRW7WJZ"
      },
      "source": [
        "##### AlexNet"
      ]
    },
    {
      "cell_type": "markdown",
      "metadata": {
        "id": "3GzNqakdaX0Z"
      },
      "source": [
        "Modeling"
      ]
    },
    {
      "cell_type": "code",
      "execution_count": 13,
      "metadata": {
        "id": "JA74D5jL7Ua5"
      },
      "outputs": [],
      "source": [
        "# Ambil dataset asli sebelum dibagi\n",
        "original_dataset = train_dataset.dataset\n",
        "\n",
        "# Hitung jumlah kelas dari dataset asli\n",
        "num_classes = len(original_dataset.classes)\n",
        "\n",
        "# Membuat model baru untuk klasifikasi\n",
        "num_features = alexnet.classifier[6].in_features\n",
        "alexnet.classifier[6] = nn.Linear(num_features, num_classes)\n",
        "\n",
        "# Definisikan loss function dan optimizer\n",
        "criterion = nn.CrossEntropyLoss()\n",
        "optimizer = torch.optim.Adam(alexnet.parameters(), lr=0.001)\n",
        "\n",
        "# Menentukan device yang akan digunakan\n",
        "device = torch.device(\"cuda\" if torch.cuda.is_available() else \"cpu\")\n",
        "\n",
        "# Memindahkan model ke device yang dipilih\n",
        "alexnet = alexnet.to(device)"
      ]
    },
    {
      "cell_type": "markdown",
      "metadata": {
        "id": "987E0xcjaa0g"
      },
      "source": [
        "Training Model"
      ]
    },
    {
      "cell_type": "code",
      "execution_count": 14,
      "metadata": {
        "id": "tp0inpX179_k",
        "colab": {
          "base_uri": "https://localhost:8080/"
        },
        "outputId": "6858ec91-2f7a-4ad8-d316-34b5cee60f01"
      },
      "outputs": [
        {
          "output_type": "stream",
          "name": "stdout",
          "text": [
            "Epoch 1/10, Loss: 1.8265, Accuracy: 0.4277\n",
            "Epoch 2/10, Loss: 1.5032, Accuracy: 0.4811\n",
            "Epoch 3/10, Loss: 1.4420, Accuracy: 0.4906\n",
            "Epoch 4/10, Loss: 1.9033, Accuracy: 0.3491\n",
            "Epoch 5/10, Loss: 2.0816, Accuracy: 0.1415\n",
            "Epoch 6/10, Loss: 2.0602, Accuracy: 0.1651\n",
            "Epoch 7/10, Loss: 2.0527, Accuracy: 0.1635\n",
            "Epoch 8/10, Loss: 2.0353, Accuracy: 0.1651\n",
            "Epoch 9/10, Loss: 1.9327, Accuracy: 0.2044\n",
            "Epoch 10/10, Loss: 1.9041, Accuracy: 0.1950\n"
          ]
        }
      ],
      "source": [
        "# Loop pelatihan untuk setiap epoch\n",
        "for epoch in range(num_epochs):\n",
        "    # Set model ke mode pelatihan\n",
        "    alexnet.train()\n",
        "\n",
        "    # Inisialisasi nilai loss dan jumlah batch yang benar\n",
        "    running_loss = 0.0\n",
        "    correct = 0\n",
        "\n",
        "    # Loop pelatihan untuk setiap batch dalam DataLoader\n",
        "    for images, labels in train_loader:\n",
        "        # Memindahkan data ke device yang dipilih\n",
        "        images, labels = images.to(device), labels.to(device)\n",
        "\n",
        "        # Reset gradien parameter\n",
        "        optimizer.zero_grad()\n",
        "\n",
        "        # Proses forward pass: menghitung output dari model\n",
        "        outputs = alexnet(images)\n",
        "\n",
        "        # Hitung loss\n",
        "        loss = criterion(outputs, labels)\n",
        "\n",
        "        # Proses backward pass: hitung gradien dari loss terhadap parameter\n",
        "        loss.backward()\n",
        "\n",
        "        # Optimize parameter\n",
        "        optimizer.step()\n",
        "\n",
        "        # Hitung statistik untuk logging\n",
        "        running_loss += loss.item() * images.size(0)\n",
        "        _, predicted = torch.max(outputs, 1)\n",
        "        correct += (predicted == labels).sum().item()\n",
        "\n",
        "    # Hitung rata-rata loss dan akurasi untuk epoch ini\n",
        "    epoch_loss = running_loss / len(train_dataset)\n",
        "    epoch_acc = correct / len(train_dataset)\n",
        "\n",
        "    # Cetak statistik pelatihan untuk setiap epoch\n",
        "    print(f'Epoch {epoch+1}/{num_epochs}, Loss: {epoch_loss:.4f}, Accuracy: {epoch_acc:.4f}')\n"
      ]
    },
    {
      "cell_type": "markdown",
      "metadata": {
        "id": "XdGKmEAEac6e"
      },
      "source": [
        "Model Evaluation"
      ]
    },
    {
      "cell_type": "code",
      "execution_count": 16,
      "metadata": {
        "id": "U5oXDAe98pD_",
        "colab": {
          "base_uri": "https://localhost:8080/"
        },
        "outputId": "08831fcc-c48b-413f-9954-f8c2804ebeee"
      },
      "outputs": [
        {
          "output_type": "stream",
          "name": "stdout",
          "text": [
            "Accuracy on validation set of Alexnet Model: 0.14\n"
          ]
        }
      ],
      "source": [
        "# Set model ke mode evaluasi\n",
        "alexnet.eval()\n",
        "\n",
        "# Inisialisasi variabel untuk evaluasi\n",
        "correct = 0\n",
        "total = 0\n",
        "\n",
        "# Tidak perlu melacak gradien saat melakukan evaluasi\n",
        "with torch.no_grad():\n",
        "    for images, labels in val_loader:\n",
        "        # Memindahkan data ke device yang dipilih\n",
        "        images, labels = images.to(device), labels.to(device)\n",
        "\n",
        "        # Forward pass\n",
        "        outputs = alexnet(images)\n",
        "\n",
        "        # Ambil prediksi\n",
        "        _, predicted = torch.max(outputs, 1)\n",
        "\n",
        "        # Hitung jumlah data yang diprediksi dengan benar\n",
        "        total += labels.size(0)\n",
        "        correct += (predicted == labels).sum().item()\n",
        "\n",
        "# Hitung akurasi\n",
        "accuracy = correct / total\n",
        "print(f'Accuracy on validation set of Alexnet Model: {accuracy:.2f}')"
      ]
    },
    {
      "cell_type": "code",
      "execution_count": 27,
      "metadata": {
        "id": "pk48Rlx7DW4p",
        "colab": {
          "base_uri": "https://localhost:8080/",
          "height": 1000
        },
        "outputId": "2dfad509-053d-4f98-ca9b-9dd989cc5f95"
      },
      "outputs": [
        {
          "output_type": "display_data",
          "data": {
            "text/plain": [
              "<Figure size 1000x800 with 2 Axes>"
            ],
            "image/png": "[encoded data removed]"
          },
          "metadata": {}
        },
        {
          "output_type": "stream",
          "name": "stdout",
          "text": [
            "              precision    recall  f1-score   support\n",
            "\n",
            "           0       0.29      0.44      0.35        18\n",
            "           1       0.00      0.00      0.00        19\n",
            "           2       0.00      0.00      0.00        12\n",
            "           3       0.00      0.00      0.00        22\n",
            "           4       0.50      0.05      0.08        22\n",
            "           5       0.15      1.00      0.26        18\n",
            "           6       0.00      0.00      0.00        26\n",
            "           7       0.00      0.00      0.00        22\n",
            "\n",
            "    accuracy                           0.17       159\n",
            "   macro avg       0.12      0.19      0.09       159\n",
            "weighted avg       0.12      0.17      0.08       159\n",
            "\n"
          ]
        },
        {
          "output_type": "stream",
          "name": "stderr",
          "text": [
            "/usr/local/lib/python3.10/dist-packages/sklearn/metrics/_classification.py:1344: UndefinedMetricWarning: Precision and F-score are ill-defined and being set to 0.0 in labels with no predicted samples. Use `zero_division` parameter to control this behavior.\n",
            "  _warn_prf(average, modifier, msg_start, len(result))\n",
            "/usr/local/lib/python3.10/dist-packages/sklearn/metrics/_classification.py:1344: UndefinedMetricWarning: Precision and F-score are ill-defined and being set to 0.0 in labels with no predicted samples. Use `zero_division` parameter to control this behavior.\n",
            "  _warn_prf(average, modifier, msg_start, len(result))\n",
            "/usr/local/lib/python3.10/dist-packages/sklearn/metrics/_classification.py:1344: UndefinedMetricWarning: Precision and F-score are ill-defined and being set to 0.0 in labels with no predicted samples. Use `zero_division` parameter to control this behavior.\n",
            "  _warn_prf(average, modifier, msg_start, len(result))\n"
          ]
        }
      ],
      "source": [
        "# Mengumpulkan label sebenarnya dan prediksi\n",
        "true_labels = []\n",
        "predicted_labels = []\n",
        "\n",
        "# Tidak perlu melacak gradien saat melakukan evaluasi\n",
        "with torch.no_grad():\n",
        "    for images, labels in val_loader:\n",
        "        images, labels = images.to(device), labels.to(device)\n",
        "        outputs = alexnet(images)\n",
        "        _, predicted = torch.max(outputs, 1)\n",
        "        true_labels.extend(labels.cpu().numpy())\n",
        "        predicted_labels.extend(predicted.cpu().numpy())\n",
        "\n",
        "# Hitung confusion matrix\n",
        "conf_matrix = confusion_matrix(true_labels, predicted_labels)\n",
        "\n",
        "# Tampilkan confusion matrix dengan heatmap\n",
        "plt.figure(figsize=(10, 8))\n",
        "sns.heatmap(conf_matrix, annot=True, fmt='d', cmap='Blues')\n",
        "plt.xlabel('Predicted')\n",
        "plt.ylabel('True')\n",
        "plt.title('Confusion Matrix - AlexNet')\n",
        "plt.show()\n",
        "\n",
        "# Tampilkan laporan klasifikasi\n",
        "report = classification_report(true_labels, predicted_labels)\n",
        "print(report)"
      ]
    },
    {
      "cell_type": "code",
      "source": [
        "# Menghitung TP, FP, TN, dan FN untuk setiap label\n",
        "for i in range(conf_matrix.shape[0]):\n",
        "    tp = conf_matrix[i, i]\n",
        "    fp = conf_matrix[:, i].sum() - tp\n",
        "    fn = conf_matrix[i, :].sum() - tp\n",
        "    tn = conf_matrix.sum() - (tp + fp + fn)\n",
        "\n",
        "    # Menampilkan nilai untuk setiap label\n",
        "    print(f'Label {i+1}:')\n",
        "    print(f'True Positive (TP): {tp}')\n",
        "    print(f'False Positive (FP): {fp}')\n",
        "    print(f'True Negative (TN): {tn}')\n",
        "    print(f'False Negative (FN): {fn}')\n",
        "    print()"
      ],
      "metadata": {
        "colab": {
          "base_uri": "https://localhost:8080/"
        },
        "id": "iwRSgH0ImFwt",
        "outputId": "cd1b2525-b5d3-4886-ff3d-098f1dcfb273"
      },
      "execution_count": 28,
      "outputs": [
        {
          "output_type": "stream",
          "name": "stdout",
          "text": [
            "Label 1:\n",
            "True Positive (TP): 8\n",
            "False Positive (FP): 20\n",
            "True Negative (TN): 121\n",
            "False Negative (FN): 10\n",
            "\n",
            "Label 2:\n",
            "True Positive (TP): 0\n",
            "False Positive (FP): 4\n",
            "True Negative (TN): 136\n",
            "False Negative (FN): 19\n",
            "\n",
            "Label 3:\n",
            "True Positive (TP): 0\n",
            "False Positive (FP): 4\n",
            "True Negative (TN): 143\n",
            "False Negative (FN): 12\n",
            "\n",
            "Label 4:\n",
            "True Positive (TP): 0\n",
            "False Positive (FP): 0\n",
            "True Negative (TN): 137\n",
            "False Negative (FN): 22\n",
            "\n",
            "Label 5:\n",
            "True Positive (TP): 1\n",
            "False Positive (FP): 1\n",
            "True Negative (TN): 136\n",
            "False Negative (FN): 21\n",
            "\n",
            "Label 6:\n",
            "True Positive (TP): 18\n",
            "False Positive (FP): 103\n",
            "True Negative (TN): 38\n",
            "False Negative (FN): 0\n",
            "\n",
            "Label 7:\n",
            "True Positive (TP): 0\n",
            "False Positive (FP): 0\n",
            "True Negative (TN): 133\n",
            "False Negative (FN): 26\n",
            "\n",
            "Label 8:\n",
            "True Positive (TP): 0\n",
            "False Positive (FP): 0\n",
            "True Negative (TN): 137\n",
            "False Negative (FN): 22\n",
            "\n"
          ]
        }
      ]
    },
    {
      "cell_type": "markdown",
      "metadata": {
        "id": "J_B5GYwqS5z8"
      },
      "source": [
        "##### Inception-V3"
      ]
    },
    {
      "cell_type": "markdown",
      "metadata": {
        "id": "cwB61_JEYfA0"
      },
      "source": [
        "Preprocessing"
      ]
    },
    {
      "cell_type": "code",
      "execution_count": 18,
      "metadata": {
        "id": "Ni--qzCiYoqR"
      },
      "outputs": [],
      "source": [
        "# Preprocessing khusus untuk model InceptionV3\n",
        "train_transform_inception = transforms.Compose([\n",
        "    transforms.Resize(342),  # Resizing gambar ke ukuran 342x342 piksel\n",
        "    transforms.RandomResizedCrop(299),  # Random crop dan resize menjadi 299x299 piksel\n",
        "    transforms.RandomHorizontalFlip(),  # Flip horizontal secara acak\n",
        "    transforms.ToTensor(),  # Mengubah gambar menjadi tensor\n",
        "    transforms.Normalize(mean=[0.485, 0.456, 0.406], std=[0.229, 0.224, 0.225])  # Normalisasi tensor\n",
        "])\n",
        "\n",
        "# Memuat dataset dan menerapkan transformasi\n",
        "dataset_inception = ImageFolder(root=folder_path, transform=train_transform_inception)\n",
        "\n",
        "# Memisahkan data validasi\n",
        "train_size = int(0.8 * len(dataset_inception))\n",
        "val_size = len(dataset_inception) - train_size\n",
        "train_dataset_inception, val_dataset_inception = random_split(dataset_inception, [train_size, val_size])\n",
        "\n",
        "# Membuat DataLoader untuk data pelatihan dan data validasi\n",
        "train_loader_inception = DataLoader(train_dataset_inception, batch_size=batch_size, shuffle=True)\n",
        "val_loader_inception = DataLoader(val_dataset_inception, batch_size=batch_size, shuffle=False)"
      ]
    },
    {
      "cell_type": "code",
      "execution_count": 19,
      "metadata": {
        "id": "fPhyxGgBZJPY"
      },
      "outputs": [],
      "source": [
        "batch_size = 32"
      ]
    },
    {
      "cell_type": "markdown",
      "metadata": {
        "id": "z3e4Y_4lYqO7"
      },
      "source": [
        "Modeling"
      ]
    },
    {
      "cell_type": "code",
      "execution_count": 20,
      "metadata": {
        "id": "eakf7jxmS_fr"
      },
      "outputs": [],
      "source": [
        "# Ambil dataset asli sebelum dibagi\n",
        "original_dataset_inception = train_dataset_inception.dataset\n",
        "\n",
        "# Hitung jumlah kelas dari dataset asli\n",
        "num_classes_inception = len(original_dataset_inception.classes)\n",
        "\n",
        "# Membuat model baru untuk klasifikasi\n",
        "num_features_inception = inception_v3.fc.in_features\n",
        "inception_v3.fc = nn.Linear(num_features_inception, num_classes_inception)\n",
        "\n",
        "# Definisikan loss function dan optimizer\n",
        "criterion = nn.CrossEntropyLoss()\n",
        "optimizer = torch.optim.Adam(inception_v3.parameters(), lr=0.001)\n",
        "\n",
        "# Menentukan device yang akan digunakan\n",
        "device = torch.device(\"cuda\" if torch.cuda.is_available() else \"cpu\")\n",
        "\n",
        "# Memindahkan model ke device yang dipilih\n",
        "inception_v3 = inception_v3.to(device)"
      ]
    },
    {
      "cell_type": "markdown",
      "metadata": {
        "id": "IBnnkE9zZrrf"
      },
      "source": [
        "Training Model"
      ]
    },
    {
      "cell_type": "code",
      "execution_count": 21,
      "metadata": {
        "id": "mkOuNKxfWgqQ",
        "colab": {
          "base_uri": "https://localhost:8080/"
        },
        "outputId": "c193b27a-94d1-4b67-92fc-5999f55df58e"
      },
      "outputs": [
        {
          "output_type": "stream",
          "name": "stdout",
          "text": [
            "Epoch 1/10, Loss: 0.5015, Accuracy: 0.8585\n",
            "Epoch 2/10, Loss: 0.2390, Accuracy: 0.9261\n",
            "Epoch 3/10, Loss: 0.2854, Accuracy: 0.9277\n",
            "Epoch 4/10, Loss: 0.2760, Accuracy: 0.9355\n",
            "Epoch 5/10, Loss: 0.3198, Accuracy: 0.9182\n",
            "Epoch 6/10, Loss: 0.1714, Accuracy: 0.9403\n",
            "Epoch 7/10, Loss: 0.3324, Accuracy: 0.9009\n",
            "Epoch 8/10, Loss: 0.1775, Accuracy: 0.9434\n",
            "Epoch 9/10, Loss: 0.2192, Accuracy: 0.9261\n",
            "Epoch 10/10, Loss: 0.1340, Accuracy: 0.9560\n"
          ]
        }
      ],
      "source": [
        "# Loop pelatihan untuk setiap epoch\n",
        "for epoch in range(num_epochs):\n",
        "    # Set model ke mode pelatihan\n",
        "    inception_v3.train()\n",
        "\n",
        "    # Inisialisasi nilai loss dan jumlah batch yang benar\n",
        "    running_loss = 0.0\n",
        "    correct = 0\n",
        "\n",
        "    # Loop pelatihan untuk setiap batch dalam DataLoader\n",
        "    for images, labels in train_loader_inception:\n",
        "        # Memindahkan data ke device yang dipilih\n",
        "        images, labels = images.to(device), labels.to(device)\n",
        "\n",
        "        # Reset gradien parameter\n",
        "        optimizer.zero_grad()\n",
        "\n",
        "        # Proses forward pass: menghitung output dari model\n",
        "        outputs = inception_v3(images)\n",
        "\n",
        "        # Ambil logits dari outputs\n",
        "        logits = outputs.logits\n",
        "\n",
        "        # Hitung loss\n",
        "        loss = criterion(logits, labels)\n",
        "\n",
        "        # Proses backward pass: hitung gradien dari loss terhadap parameter\n",
        "        loss.backward()\n",
        "\n",
        "        # Optimize parameter\n",
        "        optimizer.step()\n",
        "\n",
        "        # Hitung statistik untuk logging\n",
        "        running_loss += loss.item() * images.size(0)\n",
        "        _, predicted = torch.max(logits, 1)\n",
        "        correct += (predicted == labels).sum().item()\n",
        "\n",
        "    # Hitung rata-rata loss dan akurasi untuk epoch ini\n",
        "    epoch_loss = running_loss / len(train_dataset_inception)\n",
        "    epoch_acc = correct / len(train_dataset_inception)\n",
        "\n",
        "    # Cetak statistik pelatihan untuk setiap epoch\n",
        "    print(f'Epoch {epoch+1}/{num_epochs}, Loss: {epoch_loss:.4f}, Accuracy: {epoch_acc:.4f}')\n"
      ]
    },
    {
      "cell_type": "markdown",
      "metadata": {
        "id": "B312LLQgapvd"
      },
      "source": [
        "Model Evaluation"
      ]
    },
    {
      "cell_type": "code",
      "execution_count": 29,
      "metadata": {
        "id": "6HkZKIVyW3ta",
        "colab": {
          "base_uri": "https://localhost:8080/"
        },
        "outputId": "9f9f2fac-d800-4b94-ca08-28ddeb7a694e"
      },
      "outputs": [
        {
          "output_type": "stream",
          "name": "stdout",
          "text": [
            "Accuracy on validation set of Inception-v3 Model: 0.97\n"
          ]
        }
      ],
      "source": [
        "# Set model ke mode evaluasi\n",
        "inception_v3.eval()\n",
        "\n",
        "# Inisialisasi variabel untuk evaluasi\n",
        "correct = 0\n",
        "total = 0\n",
        "\n",
        "# Tidak perlu melacak gradien saat melakukan evaluasi\n",
        "with torch.no_grad():\n",
        "    for images, labels in val_loader_inception:\n",
        "        # Memindahkan data ke device yang dipilih\n",
        "        images, labels = images.to(device), labels.to(device)\n",
        "\n",
        "        # Forward pass\n",
        "        outputs = inception_v3(images)\n",
        "\n",
        "        # Ambil prediksi\n",
        "        _, predicted = torch.max(outputs, 1)  # Mengambil nilai prediksi langsung\n",
        "\n",
        "        # Hitung jumlah data yang diprediksi dengan benar\n",
        "        total += labels.size(0)\n",
        "        correct += (predicted == labels).sum().item()\n",
        "\n",
        "# Hitung akurasi\n",
        "accuracy = correct / total\n",
        "print(f'Accuracy on validation set of Inception-v3 Model: {accuracy:.2f}')\n"
      ]
    },
    {
      "cell_type": "code",
      "execution_count": 30,
      "metadata": {
        "id": "sJfQIdMNETBw",
        "colab": {
          "base_uri": "https://localhost:8080/",
          "height": 978
        },
        "outputId": "88e74df8-a46c-470f-a467-d1cfa71dec5c"
      },
      "outputs": [
        {
          "output_type": "display_data",
          "data": {
            "text/plain": [
              "<Figure size 1000x800 with 2 Axes>"
            ],
            "image/png": "[encoded data removed]"
          },
          "metadata": {}
        },
        {
          "output_type": "stream",
          "name": "stdout",
          "text": [
            "              precision    recall  f1-score   support\n",
            "\n",
            "           0       1.00      1.00      1.00        20\n",
            "           1       1.00      1.00      1.00        17\n",
            "           2       1.00      0.93      0.97        15\n",
            "           3       1.00      1.00      1.00        13\n",
            "           4       1.00      1.00      1.00        26\n",
            "           5       1.00      1.00      1.00        21\n",
            "           6       1.00      1.00      1.00        27\n",
            "           7       0.95      1.00      0.98        20\n",
            "\n",
            "    accuracy                           0.99       159\n",
            "   macro avg       0.99      0.99      0.99       159\n",
            "weighted avg       0.99      0.99      0.99       159\n",
            "\n"
          ]
        }
      ],
      "source": [
        "# Mengumpulkan label sebenarnya dan prediksi\n",
        "true_labels = []\n",
        "predicted_labels = []\n",
        "\n",
        "# Tidak perlu melacak gradien saat melakukan evaluasi\n",
        "with torch.no_grad():\n",
        "    for images, labels in val_loader_inception:\n",
        "        images, labels = images.to(device), labels.to(device)\n",
        "        outputs = inception_v3(images)\n",
        "        _, predicted = torch.max(outputs, 1)\n",
        "        true_labels.extend(labels.cpu().numpy())\n",
        "        predicted_labels.extend(predicted.cpu().numpy())\n",
        "\n",
        "# Hitung confusion matrix\n",
        "conf_matrix = confusion_matrix(true_labels, predicted_labels)\n",
        "\n",
        "# Tampilkan confusion matrix dengan heatmap\n",
        "plt.figure(figsize=(10, 8))\n",
        "sns.heatmap(conf_matrix, annot=True, fmt='d', cmap='Blues')\n",
        "plt.xlabel('Predicted')\n",
        "plt.ylabel('True')\n",
        "plt.title('Confusion Matrix - Inception-v3')\n",
        "plt.show()\n",
        "\n",
        "# Tampilkan laporan klasifikasi\n",
        "report = classification_report(true_labels, predicted_labels)\n",
        "print(report)"
      ]
    },
    {
      "cell_type": "code",
      "source": [
        "# Menghitung TP, FP, TN, dan FN untuk setiap label\n",
        "for i in range(conf_matrix.shape[0]):\n",
        "    tp = conf_matrix[i, i]\n",
        "    fp = conf_matrix[:, i].sum() - tp\n",
        "    fn = conf_matrix[i, :].sum() - tp\n",
        "    tn = conf_matrix.sum() - (tp + fp + fn)\n",
        "\n",
        "    # Menampilkan nilai untuk setiap label\n",
        "    print(f'Label {i+1}:')\n",
        "    print(f'True Positive (TP): {tp}')\n",
        "    print(f'False Positive (FP): {fp}')\n",
        "    print(f'True Negative (TN): {tn}')\n",
        "    print(f'False Negative (FN): {fn}')\n",
        "    print()"
      ],
      "metadata": {
        "colab": {
          "base_uri": "https://localhost:8080/"
        },
        "id": "OPkKYrC2oKSv",
        "outputId": "74123771-6904-497c-b09b-53a3eaecb90a"
      },
      "execution_count": 31,
      "outputs": [
        {
          "output_type": "stream",
          "name": "stdout",
          "text": [
            "Label 1:\n",
            "True Positive (TP): 20\n",
            "False Positive (FP): 0\n",
            "True Negative (TN): 139\n",
            "False Negative (FN): 0\n",
            "\n",
            "Label 2:\n",
            "True Positive (TP): 17\n",
            "False Positive (FP): 0\n",
            "True Negative (TN): 142\n",
            "False Negative (FN): 0\n",
            "\n",
            "Label 3:\n",
            "True Positive (TP): 14\n",
            "False Positive (FP): 0\n",
            "True Negative (TN): 144\n",
            "False Negative (FN): 1\n",
            "\n",
            "Label 4:\n",
            "True Positive (TP): 13\n",
            "False Positive (FP): 0\n",
            "True Negative (TN): 146\n",
            "False Negative (FN): 0\n",
            "\n",
            "Label 5:\n",
            "True Positive (TP): 26\n",
            "False Positive (FP): 0\n",
            "True Negative (TN): 133\n",
            "False Negative (FN): 0\n",
            "\n",
            "Label 6:\n",
            "True Positive (TP): 21\n",
            "False Positive (FP): 0\n",
            "True Negative (TN): 138\n",
            "False Negative (FN): 0\n",
            "\n",
            "Label 7:\n",
            "True Positive (TP): 27\n",
            "False Positive (FP): 0\n",
            "True Negative (TN): 132\n",
            "False Negative (FN): 0\n",
            "\n",
            "Label 8:\n",
            "True Positive (TP): 20\n",
            "False Positive (FP): 1\n",
            "True Negative (TN): 138\n",
            "False Negative (FN): 0\n",
            "\n"
          ]
        }
      ]
    },
    {
      "cell_type": "markdown",
      "source": [
        "### Arsitektur Model"
      ],
      "metadata": {
        "id": "0qDFM81CR1Py"
      }
    },
    {
      "cell_type": "code",
      "source": [
        "from torchsummary import summary\n",
        "\n",
        "# Menampilkan arsitektur AlexNet\n",
        "summary(alexnet, input_size=(3, 224, 224))"
      ],
      "metadata": {
        "colab": {
          "base_uri": "https://localhost:8080/"
        },
        "id": "Tfdg_u9PR_x-",
        "outputId": "bd847f63-18ea-4d16-ce78-0333cf7687e2"
      },
      "execution_count": 32,
      "outputs": [
        {
          "output_type": "stream",
          "name": "stdout",
          "text": [
            "----------------------------------------------------------------\n",
            "        Layer (type)               Output Shape         Param #\n",
            "================================================================\n",
            "            Conv2d-1           [-1, 64, 55, 55]          23,296\n",
            "              ReLU-2           [-1, 64, 55, 55]               0\n",
            "         MaxPool2d-3           [-1, 64, 27, 27]               0\n",
            "            Conv2d-4          [-1, 192, 27, 27]         307,392\n",
            "              ReLU-5          [-1, 192, 27, 27]               0\n",
            "         MaxPool2d-6          [-1, 192, 13, 13]               0\n",
            "            Conv2d-7          [-1, 384, 13, 13]         663,936\n",
            "              ReLU-8          [-1, 384, 13, 13]               0\n",
            "            Conv2d-9          [-1, 256, 13, 13]         884,992\n",
            "             ReLU-10          [-1, 256, 13, 13]               0\n",
            "           Conv2d-11          [-1, 256, 13, 13]         590,080\n",
            "             ReLU-12          [-1, 256, 13, 13]               0\n",
            "        MaxPool2d-13            [-1, 256, 6, 6]               0\n",
            "AdaptiveAvgPool2d-14            [-1, 256, 6, 6]               0\n",
            "          Dropout-15                 [-1, 9216]               0\n",
            "           Linear-16                 [-1, 4096]      37,752,832\n",
            "             ReLU-17                 [-1, 4096]               0\n",
            "          Dropout-18                 [-1, 4096]               0\n",
            "           Linear-19                 [-1, 4096]      16,781,312\n",
            "             ReLU-20                 [-1, 4096]               0\n",
            "           Linear-21                    [-1, 8]          32,776\n",
            "================================================================\n",
            "Total params: 57,036,616\n",
            "Trainable params: 57,036,616\n",
            "Non-trainable params: 0\n",
            "----------------------------------------------------------------\n",
            "Input size (MB): 0.57\n",
            "Forward/backward pass size (MB): 8.37\n",
            "Params size (MB): 217.58\n",
            "Estimated Total Size (MB): 226.52\n",
            "----------------------------------------------------------------\n"
          ]
        }
      ]
    },
    {
      "cell_type": "code",
      "source": [
        "from torchsummary import summary\n",
        "\n",
        "# Menampilkan arsitektur Inception-v3\n",
        "summary(inception_v3, input_size=(3, 299, 299))\n"
      ],
      "metadata": {
        "colab": {
          "base_uri": "https://localhost:8080/"
        },
        "id": "A11xsytGSCS3",
        "outputId": "1ca24277-a207-4e78-b013-2d5d30b6a4d0"
      },
      "execution_count": 34,
      "outputs": [
        {
          "output_type": "stream",
          "name": "stdout",
          "text": [
            "----------------------------------------------------------------\n",
            "        Layer (type)               Output Shape         Param #\n",
            "================================================================\n",
            "            Conv2d-1         [-1, 32, 149, 149]             864\n",
            "       BatchNorm2d-2         [-1, 32, 149, 149]              64\n",
            "       BasicConv2d-3         [-1, 32, 149, 149]               0\n",
            "            Conv2d-4         [-1, 32, 147, 147]           9,216\n",
            "       BatchNorm2d-5         [-1, 32, 147, 147]              64\n",
            "       BasicConv2d-6         [-1, 32, 147, 147]               0\n",
            "            Conv2d-7         [-1, 64, 147, 147]          18,432\n",
            "       BatchNorm2d-8         [-1, 64, 147, 147]             128\n",
            "       BasicConv2d-9         [-1, 64, 147, 147]               0\n",
            "        MaxPool2d-10           [-1, 64, 73, 73]               0\n",
            "           Conv2d-11           [-1, 80, 73, 73]           5,120\n",
            "      BatchNorm2d-12           [-1, 80, 73, 73]             160\n",
            "      BasicConv2d-13           [-1, 80, 73, 73]               0\n",
            "           Conv2d-14          [-1, 192, 71, 71]         138,240\n",
            "      BatchNorm2d-15          [-1, 192, 71, 71]             384\n",
            "      BasicConv2d-16          [-1, 192, 71, 71]               0\n",
            "        MaxPool2d-17          [-1, 192, 35, 35]               0\n",
            "           Conv2d-18           [-1, 64, 35, 35]          12,288\n",
            "      BatchNorm2d-19           [-1, 64, 35, 35]             128\n",
            "      BasicConv2d-20           [-1, 64, 35, 35]               0\n",
            "           Conv2d-21           [-1, 48, 35, 35]           9,216\n",
            "      BatchNorm2d-22           [-1, 48, 35, 35]              96\n",
            "      BasicConv2d-23           [-1, 48, 35, 35]               0\n",
            "           Conv2d-24           [-1, 64, 35, 35]          76,800\n",
            "      BatchNorm2d-25           [-1, 64, 35, 35]             128\n",
            "      BasicConv2d-26           [-1, 64, 35, 35]               0\n",
            "           Conv2d-27           [-1, 64, 35, 35]          12,288\n",
            "      BatchNorm2d-28           [-1, 64, 35, 35]             128\n",
            "      BasicConv2d-29           [-1, 64, 35, 35]               0\n",
            "           Conv2d-30           [-1, 96, 35, 35]          55,296\n",
            "      BatchNorm2d-31           [-1, 96, 35, 35]             192\n",
            "      BasicConv2d-32           [-1, 96, 35, 35]               0\n",
            "           Conv2d-33           [-1, 96, 35, 35]          82,944\n",
            "      BatchNorm2d-34           [-1, 96, 35, 35]             192\n",
            "      BasicConv2d-35           [-1, 96, 35, 35]               0\n",
            "           Conv2d-36           [-1, 32, 35, 35]           6,144\n",
            "      BatchNorm2d-37           [-1, 32, 35, 35]              64\n",
            "      BasicConv2d-38           [-1, 32, 35, 35]               0\n",
            "       InceptionA-39          [-1, 256, 35, 35]               0\n",
            "           Conv2d-40           [-1, 64, 35, 35]          16,384\n",
            "      BatchNorm2d-41           [-1, 64, 35, 35]             128\n",
            "      BasicConv2d-42           [-1, 64, 35, 35]               0\n",
            "           Conv2d-43           [-1, 48, 35, 35]          12,288\n",
            "      BatchNorm2d-44           [-1, 48, 35, 35]              96\n",
            "      BasicConv2d-45           [-1, 48, 35, 35]               0\n",
            "           Conv2d-46           [-1, 64, 35, 35]          76,800\n",
            "      BatchNorm2d-47           [-1, 64, 35, 35]             128\n",
            "      BasicConv2d-48           [-1, 64, 35, 35]               0\n",
            "           Conv2d-49           [-1, 64, 35, 35]          16,384\n",
            "      BatchNorm2d-50           [-1, 64, 35, 35]             128\n",
            "      BasicConv2d-51           [-1, 64, 35, 35]               0\n",
            "           Conv2d-52           [-1, 96, 35, 35]          55,296\n",
            "      BatchNorm2d-53           [-1, 96, 35, 35]             192\n",
            "      BasicConv2d-54           [-1, 96, 35, 35]               0\n",
            "           Conv2d-55           [-1, 96, 35, 35]          82,944\n",
            "      BatchNorm2d-56           [-1, 96, 35, 35]             192\n",
            "      BasicConv2d-57           [-1, 96, 35, 35]               0\n",
            "           Conv2d-58           [-1, 64, 35, 35]          16,384\n",
            "      BatchNorm2d-59           [-1, 64, 35, 35]             128\n",
            "      BasicConv2d-60           [-1, 64, 35, 35]               0\n",
            "       InceptionA-61          [-1, 288, 35, 35]               0\n",
            "           Conv2d-62           [-1, 64, 35, 35]          18,432\n",
            "      BatchNorm2d-63           [-1, 64, 35, 35]             128\n",
            "      BasicConv2d-64           [-1, 64, 35, 35]               0\n",
            "           Conv2d-65           [-1, 48, 35, 35]          13,824\n",
            "      BatchNorm2d-66           [-1, 48, 35, 35]              96\n",
            "      BasicConv2d-67           [-1, 48, 35, 35]               0\n",
            "           Conv2d-68           [-1, 64, 35, 35]          76,800\n",
            "      BatchNorm2d-69           [-1, 64, 35, 35]             128\n",
            "      BasicConv2d-70           [-1, 64, 35, 35]               0\n",
            "           Conv2d-71           [-1, 64, 35, 35]          18,432\n",
            "      BatchNorm2d-72           [-1, 64, 35, 35]             128\n",
            "      BasicConv2d-73           [-1, 64, 35, 35]               0\n",
            "           Conv2d-74           [-1, 96, 35, 35]          55,296\n",
            "      BatchNorm2d-75           [-1, 96, 35, 35]             192\n",
            "      BasicConv2d-76           [-1, 96, 35, 35]               0\n",
            "           Conv2d-77           [-1, 96, 35, 35]          82,944\n",
            "      BatchNorm2d-78           [-1, 96, 35, 35]             192\n",
            "      BasicConv2d-79           [-1, 96, 35, 35]               0\n",
            "           Conv2d-80           [-1, 64, 35, 35]          18,432\n",
            "      BatchNorm2d-81           [-1, 64, 35, 35]             128\n",
            "      BasicConv2d-82           [-1, 64, 35, 35]               0\n",
            "       InceptionA-83          [-1, 288, 35, 35]               0\n",
            "           Conv2d-84          [-1, 384, 17, 17]         995,328\n",
            "      BatchNorm2d-85          [-1, 384, 17, 17]             768\n",
            "      BasicConv2d-86          [-1, 384, 17, 17]               0\n",
            "           Conv2d-87           [-1, 64, 35, 35]          18,432\n",
            "      BatchNorm2d-88           [-1, 64, 35, 35]             128\n",
            "      BasicConv2d-89           [-1, 64, 35, 35]               0\n",
            "           Conv2d-90           [-1, 96, 35, 35]          55,296\n",
            "      BatchNorm2d-91           [-1, 96, 35, 35]             192\n",
            "      BasicConv2d-92           [-1, 96, 35, 35]               0\n",
            "           Conv2d-93           [-1, 96, 17, 17]          82,944\n",
            "      BatchNorm2d-94           [-1, 96, 17, 17]             192\n",
            "      BasicConv2d-95           [-1, 96, 17, 17]               0\n",
            "       InceptionB-96          [-1, 768, 17, 17]               0\n",
            "           Conv2d-97          [-1, 192, 17, 17]         147,456\n",
            "      BatchNorm2d-98          [-1, 192, 17, 17]             384\n",
            "      BasicConv2d-99          [-1, 192, 17, 17]               0\n",
            "          Conv2d-100          [-1, 128, 17, 17]          98,304\n",
            "     BatchNorm2d-101          [-1, 128, 17, 17]             256\n",
            "     BasicConv2d-102          [-1, 128, 17, 17]               0\n",
            "          Conv2d-103          [-1, 128, 17, 17]         114,688\n",
            "     BatchNorm2d-104          [-1, 128, 17, 17]             256\n",
            "     BasicConv2d-105          [-1, 128, 17, 17]               0\n",
            "          Conv2d-106          [-1, 192, 17, 17]         172,032\n",
            "     BatchNorm2d-107          [-1, 192, 17, 17]             384\n",
            "     BasicConv2d-108          [-1, 192, 17, 17]               0\n",
            "          Conv2d-109          [-1, 128, 17, 17]          98,304\n",
            "     BatchNorm2d-110          [-1, 128, 17, 17]             256\n",
            "     BasicConv2d-111          [-1, 128, 17, 17]               0\n",
            "          Conv2d-112          [-1, 128, 17, 17]         114,688\n",
            "     BatchNorm2d-113          [-1, 128, 17, 17]             256\n",
            "     BasicConv2d-114          [-1, 128, 17, 17]               0\n",
            "          Conv2d-115          [-1, 128, 17, 17]         114,688\n",
            "     BatchNorm2d-116          [-1, 128, 17, 17]             256\n",
            "     BasicConv2d-117          [-1, 128, 17, 17]               0\n",
            "          Conv2d-118          [-1, 128, 17, 17]         114,688\n",
            "     BatchNorm2d-119          [-1, 128, 17, 17]             256\n",
            "     BasicConv2d-120          [-1, 128, 17, 17]               0\n",
            "          Conv2d-121          [-1, 192, 17, 17]         172,032\n",
            "     BatchNorm2d-122          [-1, 192, 17, 17]             384\n",
            "     BasicConv2d-123          [-1, 192, 17, 17]               0\n",
            "          Conv2d-124          [-1, 192, 17, 17]         147,456\n",
            "     BatchNorm2d-125          [-1, 192, 17, 17]             384\n",
            "     BasicConv2d-126          [-1, 192, 17, 17]               0\n",
            "      InceptionC-127          [-1, 768, 17, 17]               0\n",
            "          Conv2d-128          [-1, 192, 17, 17]         147,456\n",
            "     BatchNorm2d-129          [-1, 192, 17, 17]             384\n",
            "     BasicConv2d-130          [-1, 192, 17, 17]               0\n",
            "          Conv2d-131          [-1, 160, 17, 17]         122,880\n",
            "     BatchNorm2d-132          [-1, 160, 17, 17]             320\n",
            "     BasicConv2d-133          [-1, 160, 17, 17]               0\n",
            "          Conv2d-134          [-1, 160, 17, 17]         179,200\n",
            "     BatchNorm2d-135          [-1, 160, 17, 17]             320\n",
            "     BasicConv2d-136          [-1, 160, 17, 17]               0\n",
            "          Conv2d-137          [-1, 192, 17, 17]         215,040\n",
            "     BatchNorm2d-138          [-1, 192, 17, 17]             384\n",
            "     BasicConv2d-139          [-1, 192, 17, 17]               0\n",
            "          Conv2d-140          [-1, 160, 17, 17]         122,880\n",
            "     BatchNorm2d-141          [-1, 160, 17, 17]             320\n",
            "     BasicConv2d-142          [-1, 160, 17, 17]               0\n",
            "          Conv2d-143          [-1, 160, 17, 17]         179,200\n",
            "     BatchNorm2d-144          [-1, 160, 17, 17]             320\n",
            "     BasicConv2d-145          [-1, 160, 17, 17]               0\n",
            "          Conv2d-146          [-1, 160, 17, 17]         179,200\n",
            "     BatchNorm2d-147          [-1, 160, 17, 17]             320\n",
            "     BasicConv2d-148          [-1, 160, 17, 17]               0\n",
            "          Conv2d-149          [-1, 160, 17, 17]         179,200\n",
            "     BatchNorm2d-150          [-1, 160, 17, 17]             320\n",
            "     BasicConv2d-151          [-1, 160, 17, 17]               0\n",
            "          Conv2d-152          [-1, 192, 17, 17]         215,040\n",
            "     BatchNorm2d-153          [-1, 192, 17, 17]             384\n",
            "     BasicConv2d-154          [-1, 192, 17, 17]               0\n",
            "          Conv2d-155          [-1, 192, 17, 17]         147,456\n",
            "     BatchNorm2d-156          [-1, 192, 17, 17]             384\n",
            "     BasicConv2d-157          [-1, 192, 17, 17]               0\n",
            "      InceptionC-158          [-1, 768, 17, 17]               0\n",
            "          Conv2d-159          [-1, 192, 17, 17]         147,456\n",
            "     BatchNorm2d-160          [-1, 192, 17, 17]             384\n",
            "     BasicConv2d-161          [-1, 192, 17, 17]               0\n",
            "          Conv2d-162          [-1, 160, 17, 17]         122,880\n",
            "     BatchNorm2d-163          [-1, 160, 17, 17]             320\n",
            "     BasicConv2d-164          [-1, 160, 17, 17]               0\n",
            "          Conv2d-165          [-1, 160, 17, 17]         179,200\n",
            "     BatchNorm2d-166          [-1, 160, 17, 17]             320\n",
            "     BasicConv2d-167          [-1, 160, 17, 17]               0\n",
            "          Conv2d-168          [-1, 192, 17, 17]         215,040\n",
            "     BatchNorm2d-169          [-1, 192, 17, 17]             384\n",
            "     BasicConv2d-170          [-1, 192, 17, 17]               0\n",
            "          Conv2d-171          [-1, 160, 17, 17]         122,880\n",
            "     BatchNorm2d-172          [-1, 160, 17, 17]             320\n",
            "     BasicConv2d-173          [-1, 160, 17, 17]               0\n",
            "          Conv2d-174          [-1, 160, 17, 17]         179,200\n",
            "     BatchNorm2d-175          [-1, 160, 17, 17]             320\n",
            "     BasicConv2d-176          [-1, 160, 17, 17]               0\n",
            "          Conv2d-177          [-1, 160, 17, 17]         179,200\n",
            "     BatchNorm2d-178          [-1, 160, 17, 17]             320\n",
            "     BasicConv2d-179          [-1, 160, 17, 17]               0\n",
            "          Conv2d-180          [-1, 160, 17, 17]         179,200\n",
            "     BatchNorm2d-181          [-1, 160, 17, 17]             320\n",
            "     BasicConv2d-182          [-1, 160, 17, 17]               0\n",
            "          Conv2d-183          [-1, 192, 17, 17]         215,040\n",
            "     BatchNorm2d-184          [-1, 192, 17, 17]             384\n",
            "     BasicConv2d-185          [-1, 192, 17, 17]               0\n",
            "          Conv2d-186          [-1, 192, 17, 17]         147,456\n",
            "     BatchNorm2d-187          [-1, 192, 17, 17]             384\n",
            "     BasicConv2d-188          [-1, 192, 17, 17]               0\n",
            "      InceptionC-189          [-1, 768, 17, 17]               0\n",
            "          Conv2d-190          [-1, 192, 17, 17]         147,456\n",
            "     BatchNorm2d-191          [-1, 192, 17, 17]             384\n",
            "     BasicConv2d-192          [-1, 192, 17, 17]               0\n",
            "          Conv2d-193          [-1, 192, 17, 17]         147,456\n",
            "     BatchNorm2d-194          [-1, 192, 17, 17]             384\n",
            "     BasicConv2d-195          [-1, 192, 17, 17]               0\n",
            "          Conv2d-196          [-1, 192, 17, 17]         258,048\n",
            "     BatchNorm2d-197          [-1, 192, 17, 17]             384\n",
            "     BasicConv2d-198          [-1, 192, 17, 17]               0\n",
            "          Conv2d-199          [-1, 192, 17, 17]         258,048\n",
            "     BatchNorm2d-200          [-1, 192, 17, 17]             384\n",
            "     BasicConv2d-201          [-1, 192, 17, 17]               0\n",
            "          Conv2d-202          [-1, 192, 17, 17]         147,456\n",
            "     BatchNorm2d-203          [-1, 192, 17, 17]             384\n",
            "     BasicConv2d-204          [-1, 192, 17, 17]               0\n",
            "          Conv2d-205          [-1, 192, 17, 17]         258,048\n",
            "     BatchNorm2d-206          [-1, 192, 17, 17]             384\n",
            "     BasicConv2d-207          [-1, 192, 17, 17]               0\n",
            "          Conv2d-208          [-1, 192, 17, 17]         258,048\n",
            "     BatchNorm2d-209          [-1, 192, 17, 17]             384\n",
            "     BasicConv2d-210          [-1, 192, 17, 17]               0\n",
            "          Conv2d-211          [-1, 192, 17, 17]         258,048\n",
            "     BatchNorm2d-212          [-1, 192, 17, 17]             384\n",
            "     BasicConv2d-213          [-1, 192, 17, 17]               0\n",
            "          Conv2d-214          [-1, 192, 17, 17]         258,048\n",
            "     BatchNorm2d-215          [-1, 192, 17, 17]             384\n",
            "     BasicConv2d-216          [-1, 192, 17, 17]               0\n",
            "          Conv2d-217          [-1, 192, 17, 17]         147,456\n",
            "     BatchNorm2d-218          [-1, 192, 17, 17]             384\n",
            "     BasicConv2d-219          [-1, 192, 17, 17]               0\n",
            "      InceptionC-220          [-1, 768, 17, 17]               0\n",
            "          Conv2d-221          [-1, 192, 17, 17]         147,456\n",
            "     BatchNorm2d-222          [-1, 192, 17, 17]             384\n",
            "     BasicConv2d-223          [-1, 192, 17, 17]               0\n",
            "          Conv2d-224            [-1, 320, 8, 8]         552,960\n",
            "     BatchNorm2d-225            [-1, 320, 8, 8]             640\n",
            "     BasicConv2d-226            [-1, 320, 8, 8]               0\n",
            "          Conv2d-227          [-1, 192, 17, 17]         147,456\n",
            "     BatchNorm2d-228          [-1, 192, 17, 17]             384\n",
            "     BasicConv2d-229          [-1, 192, 17, 17]               0\n",
            "          Conv2d-230          [-1, 192, 17, 17]         258,048\n",
            "     BatchNorm2d-231          [-1, 192, 17, 17]             384\n",
            "     BasicConv2d-232          [-1, 192, 17, 17]               0\n",
            "          Conv2d-233          [-1, 192, 17, 17]         258,048\n",
            "     BatchNorm2d-234          [-1, 192, 17, 17]             384\n",
            "     BasicConv2d-235          [-1, 192, 17, 17]               0\n",
            "          Conv2d-236            [-1, 192, 8, 8]         331,776\n",
            "     BatchNorm2d-237            [-1, 192, 8, 8]             384\n",
            "     BasicConv2d-238            [-1, 192, 8, 8]               0\n",
            "      InceptionD-239           [-1, 1280, 8, 8]               0\n",
            "          Conv2d-240            [-1, 320, 8, 8]         409,600\n",
            "     BatchNorm2d-241            [-1, 320, 8, 8]             640\n",
            "     BasicConv2d-242            [-1, 320, 8, 8]               0\n",
            "          Conv2d-243            [-1, 384, 8, 8]         491,520\n",
            "     BatchNorm2d-244            [-1, 384, 8, 8]             768\n",
            "     BasicConv2d-245            [-1, 384, 8, 8]               0\n",
            "          Conv2d-246            [-1, 384, 8, 8]         442,368\n",
            "     BatchNorm2d-247            [-1, 384, 8, 8]             768\n",
            "     BasicConv2d-248            [-1, 384, 8, 8]               0\n",
            "          Conv2d-249            [-1, 384, 8, 8]         442,368\n",
            "     BatchNorm2d-250            [-1, 384, 8, 8]             768\n",
            "     BasicConv2d-251            [-1, 384, 8, 8]               0\n",
            "          Conv2d-252            [-1, 448, 8, 8]         573,440\n",
            "     BatchNorm2d-253            [-1, 448, 8, 8]             896\n",
            "     BasicConv2d-254            [-1, 448, 8, 8]               0\n",
            "          Conv2d-255            [-1, 384, 8, 8]       1,548,288\n",
            "     BatchNorm2d-256            [-1, 384, 8, 8]             768\n",
            "     BasicConv2d-257            [-1, 384, 8, 8]               0\n",
            "          Conv2d-258            [-1, 384, 8, 8]         442,368\n",
            "     BatchNorm2d-259            [-1, 384, 8, 8]             768\n",
            "     BasicConv2d-260            [-1, 384, 8, 8]               0\n",
            "          Conv2d-261            [-1, 384, 8, 8]         442,368\n",
            "     BatchNorm2d-262            [-1, 384, 8, 8]             768\n",
            "     BasicConv2d-263            [-1, 384, 8, 8]               0\n",
            "          Conv2d-264            [-1, 192, 8, 8]         245,760\n",
            "     BatchNorm2d-265            [-1, 192, 8, 8]             384\n",
            "     BasicConv2d-266            [-1, 192, 8, 8]               0\n",
            "      InceptionE-267           [-1, 2048, 8, 8]               0\n",
            "          Conv2d-268            [-1, 320, 8, 8]         655,360\n",
            "     BatchNorm2d-269            [-1, 320, 8, 8]             640\n",
            "     BasicConv2d-270            [-1, 320, 8, 8]               0\n",
            "          Conv2d-271            [-1, 384, 8, 8]         786,432\n",
            "     BatchNorm2d-272            [-1, 384, 8, 8]             768\n",
            "     BasicConv2d-273            [-1, 384, 8, 8]               0\n",
            "          Conv2d-274            [-1, 384, 8, 8]         442,368\n",
            "     BatchNorm2d-275            [-1, 384, 8, 8]             768\n",
            "     BasicConv2d-276            [-1, 384, 8, 8]               0\n",
            "          Conv2d-277            [-1, 384, 8, 8]         442,368\n",
            "     BatchNorm2d-278            [-1, 384, 8, 8]             768\n",
            "     BasicConv2d-279            [-1, 384, 8, 8]               0\n",
            "          Conv2d-280            [-1, 448, 8, 8]         917,504\n",
            "     BatchNorm2d-281            [-1, 448, 8, 8]             896\n",
            "     BasicConv2d-282            [-1, 448, 8, 8]               0\n",
            "          Conv2d-283            [-1, 384, 8, 8]       1,548,288\n",
            "     BatchNorm2d-284            [-1, 384, 8, 8]             768\n",
            "     BasicConv2d-285            [-1, 384, 8, 8]               0\n",
            "          Conv2d-286            [-1, 384, 8, 8]         442,368\n",
            "     BatchNorm2d-287            [-1, 384, 8, 8]             768\n",
            "     BasicConv2d-288            [-1, 384, 8, 8]               0\n",
            "          Conv2d-289            [-1, 384, 8, 8]         442,368\n",
            "     BatchNorm2d-290            [-1, 384, 8, 8]             768\n",
            "     BasicConv2d-291            [-1, 384, 8, 8]               0\n",
            "          Conv2d-292            [-1, 192, 8, 8]         393,216\n",
            "     BatchNorm2d-293            [-1, 192, 8, 8]             384\n",
            "     BasicConv2d-294            [-1, 192, 8, 8]               0\n",
            "      InceptionE-295           [-1, 2048, 8, 8]               0\n",
            "AdaptiveAvgPool2d-296           [-1, 2048, 1, 1]               0\n",
            "         Dropout-297           [-1, 2048, 1, 1]               0\n",
            "          Linear-298                    [-1, 8]          16,392\n",
            "================================================================\n",
            "Total params: 21,801,960\n",
            "Trainable params: 21,801,960\n",
            "Non-trainable params: 0\n",
            "----------------------------------------------------------------\n",
            "Input size (MB): 1.02\n",
            "Forward/backward pass size (MB): 228.54\n",
            "Params size (MB): 83.17\n",
            "Estimated Total Size (MB): 312.74\n",
            "----------------------------------------------------------------\n"
          ]
        }
      ]
    },
    {
      "cell_type": "code",
      "source": [
        "from torchsummary import summary\n",
        "\n",
        "# Menampilkan arsitektur MobileNetV2\n",
        "summary(mobilenet_v2, input_size=(3, 224, 224))\n"
      ],
      "metadata": {
        "colab": {
          "base_uri": "https://localhost:8080/"
        },
        "id": "bHCSaxh3SET5",
        "outputId": "901beec1-0ffd-4e2c-de7f-c161c736daf0"
      },
      "execution_count": 35,
      "outputs": [
        {
          "output_type": "stream",
          "name": "stdout",
          "text": [
            "----------------------------------------------------------------\n",
            "        Layer (type)               Output Shape         Param #\n",
            "================================================================\n",
            "            Conv2d-1         [-1, 32, 112, 112]             864\n",
            "       BatchNorm2d-2         [-1, 32, 112, 112]              64\n",
            "             ReLU6-3         [-1, 32, 112, 112]               0\n",
            "            Conv2d-4         [-1, 32, 112, 112]             288\n",
            "       BatchNorm2d-5         [-1, 32, 112, 112]              64\n",
            "             ReLU6-6         [-1, 32, 112, 112]               0\n",
            "            Conv2d-7         [-1, 16, 112, 112]             512\n",
            "       BatchNorm2d-8         [-1, 16, 112, 112]              32\n",
            "  InvertedResidual-9         [-1, 16, 112, 112]               0\n",
            "           Conv2d-10         [-1, 96, 112, 112]           1,536\n",
            "      BatchNorm2d-11         [-1, 96, 112, 112]             192\n",
            "            ReLU6-12         [-1, 96, 112, 112]               0\n",
            "           Conv2d-13           [-1, 96, 56, 56]             864\n",
            "      BatchNorm2d-14           [-1, 96, 56, 56]             192\n",
            "            ReLU6-15           [-1, 96, 56, 56]               0\n",
            "           Conv2d-16           [-1, 24, 56, 56]           2,304\n",
            "      BatchNorm2d-17           [-1, 24, 56, 56]              48\n",
            " InvertedResidual-18           [-1, 24, 56, 56]               0\n",
            "           Conv2d-19          [-1, 144, 56, 56]           3,456\n",
            "      BatchNorm2d-20          [-1, 144, 56, 56]             288\n",
            "            ReLU6-21          [-1, 144, 56, 56]               0\n",
            "           Conv2d-22          [-1, 144, 56, 56]           1,296\n",
            "      BatchNorm2d-23          [-1, 144, 56, 56]             288\n",
            "            ReLU6-24          [-1, 144, 56, 56]               0\n",
            "           Conv2d-25           [-1, 24, 56, 56]           3,456\n",
            "      BatchNorm2d-26           [-1, 24, 56, 56]              48\n",
            " InvertedResidual-27           [-1, 24, 56, 56]               0\n",
            "           Conv2d-28          [-1, 144, 56, 56]           3,456\n",
            "      BatchNorm2d-29          [-1, 144, 56, 56]             288\n",
            "            ReLU6-30          [-1, 144, 56, 56]               0\n",
            "           Conv2d-31          [-1, 144, 28, 28]           1,296\n",
            "      BatchNorm2d-32          [-1, 144, 28, 28]             288\n",
            "            ReLU6-33          [-1, 144, 28, 28]               0\n",
            "           Conv2d-34           [-1, 32, 28, 28]           4,608\n",
            "      BatchNorm2d-35           [-1, 32, 28, 28]              64\n",
            " InvertedResidual-36           [-1, 32, 28, 28]               0\n",
            "           Conv2d-37          [-1, 192, 28, 28]           6,144\n",
            "      BatchNorm2d-38          [-1, 192, 28, 28]             384\n",
            "            ReLU6-39          [-1, 192, 28, 28]               0\n",
            "           Conv2d-40          [-1, 192, 28, 28]           1,728\n",
            "      BatchNorm2d-41          [-1, 192, 28, 28]             384\n",
            "            ReLU6-42          [-1, 192, 28, 28]               0\n",
            "           Conv2d-43           [-1, 32, 28, 28]           6,144\n",
            "      BatchNorm2d-44           [-1, 32, 28, 28]              64\n",
            " InvertedResidual-45           [-1, 32, 28, 28]               0\n",
            "           Conv2d-46          [-1, 192, 28, 28]           6,144\n",
            "      BatchNorm2d-47          [-1, 192, 28, 28]             384\n",
            "            ReLU6-48          [-1, 192, 28, 28]               0\n",
            "           Conv2d-49          [-1, 192, 28, 28]           1,728\n",
            "      BatchNorm2d-50          [-1, 192, 28, 28]             384\n",
            "            ReLU6-51          [-1, 192, 28, 28]               0\n",
            "           Conv2d-52           [-1, 32, 28, 28]           6,144\n",
            "      BatchNorm2d-53           [-1, 32, 28, 28]              64\n",
            " InvertedResidual-54           [-1, 32, 28, 28]               0\n",
            "           Conv2d-55          [-1, 192, 28, 28]           6,144\n",
            "      BatchNorm2d-56          [-1, 192, 28, 28]             384\n",
            "            ReLU6-57          [-1, 192, 28, 28]               0\n",
            "           Conv2d-58          [-1, 192, 14, 14]           1,728\n",
            "      BatchNorm2d-59          [-1, 192, 14, 14]             384\n",
            "            ReLU6-60          [-1, 192, 14, 14]               0\n",
            "           Conv2d-61           [-1, 64, 14, 14]          12,288\n",
            "      BatchNorm2d-62           [-1, 64, 14, 14]             128\n",
            " InvertedResidual-63           [-1, 64, 14, 14]               0\n",
            "           Conv2d-64          [-1, 384, 14, 14]          24,576\n",
            "      BatchNorm2d-65          [-1, 384, 14, 14]             768\n",
            "            ReLU6-66          [-1, 384, 14, 14]               0\n",
            "           Conv2d-67          [-1, 384, 14, 14]           3,456\n",
            "      BatchNorm2d-68          [-1, 384, 14, 14]             768\n",
            "            ReLU6-69          [-1, 384, 14, 14]               0\n",
            "           Conv2d-70           [-1, 64, 14, 14]          24,576\n",
            "      BatchNorm2d-71           [-1, 64, 14, 14]             128\n",
            " InvertedResidual-72           [-1, 64, 14, 14]               0\n",
            "           Conv2d-73          [-1, 384, 14, 14]          24,576\n",
            "      BatchNorm2d-74          [-1, 384, 14, 14]             768\n",
            "            ReLU6-75          [-1, 384, 14, 14]               0\n",
            "           Conv2d-76          [-1, 384, 14, 14]           3,456\n",
            "      BatchNorm2d-77          [-1, 384, 14, 14]             768\n",
            "            ReLU6-78          [-1, 384, 14, 14]               0\n",
            "           Conv2d-79           [-1, 64, 14, 14]          24,576\n",
            "      BatchNorm2d-80           [-1, 64, 14, 14]             128\n",
            " InvertedResidual-81           [-1, 64, 14, 14]               0\n",
            "           Conv2d-82          [-1, 384, 14, 14]          24,576\n",
            "      BatchNorm2d-83          [-1, 384, 14, 14]             768\n",
            "            ReLU6-84          [-1, 384, 14, 14]               0\n",
            "           Conv2d-85          [-1, 384, 14, 14]           3,456\n",
            "      BatchNorm2d-86          [-1, 384, 14, 14]             768\n",
            "            ReLU6-87          [-1, 384, 14, 14]               0\n",
            "           Conv2d-88           [-1, 64, 14, 14]          24,576\n",
            "      BatchNorm2d-89           [-1, 64, 14, 14]             128\n",
            " InvertedResidual-90           [-1, 64, 14, 14]               0\n",
            "           Conv2d-91          [-1, 384, 14, 14]          24,576\n",
            "      BatchNorm2d-92          [-1, 384, 14, 14]             768\n",
            "            ReLU6-93          [-1, 384, 14, 14]               0\n",
            "           Conv2d-94          [-1, 384, 14, 14]           3,456\n",
            "      BatchNorm2d-95          [-1, 384, 14, 14]             768\n",
            "            ReLU6-96          [-1, 384, 14, 14]               0\n",
            "           Conv2d-97           [-1, 96, 14, 14]          36,864\n",
            "      BatchNorm2d-98           [-1, 96, 14, 14]             192\n",
            " InvertedResidual-99           [-1, 96, 14, 14]               0\n",
            "          Conv2d-100          [-1, 576, 14, 14]          55,296\n",
            "     BatchNorm2d-101          [-1, 576, 14, 14]           1,152\n",
            "           ReLU6-102          [-1, 576, 14, 14]               0\n",
            "          Conv2d-103          [-1, 576, 14, 14]           5,184\n",
            "     BatchNorm2d-104          [-1, 576, 14, 14]           1,152\n",
            "           ReLU6-105          [-1, 576, 14, 14]               0\n",
            "          Conv2d-106           [-1, 96, 14, 14]          55,296\n",
            "     BatchNorm2d-107           [-1, 96, 14, 14]             192\n",
            "InvertedResidual-108           [-1, 96, 14, 14]               0\n",
            "          Conv2d-109          [-1, 576, 14, 14]          55,296\n",
            "     BatchNorm2d-110          [-1, 576, 14, 14]           1,152\n",
            "           ReLU6-111          [-1, 576, 14, 14]               0\n",
            "          Conv2d-112          [-1, 576, 14, 14]           5,184\n",
            "     BatchNorm2d-113          [-1, 576, 14, 14]           1,152\n",
            "           ReLU6-114          [-1, 576, 14, 14]               0\n",
            "          Conv2d-115           [-1, 96, 14, 14]          55,296\n",
            "     BatchNorm2d-116           [-1, 96, 14, 14]             192\n",
            "InvertedResidual-117           [-1, 96, 14, 14]               0\n",
            "          Conv2d-118          [-1, 576, 14, 14]          55,296\n",
            "     BatchNorm2d-119          [-1, 576, 14, 14]           1,152\n",
            "           ReLU6-120          [-1, 576, 14, 14]               0\n",
            "          Conv2d-121            [-1, 576, 7, 7]           5,184\n",
            "     BatchNorm2d-122            [-1, 576, 7, 7]           1,152\n",
            "           ReLU6-123            [-1, 576, 7, 7]               0\n",
            "          Conv2d-124            [-1, 160, 7, 7]          92,160\n",
            "     BatchNorm2d-125            [-1, 160, 7, 7]             320\n",
            "InvertedResidual-126            [-1, 160, 7, 7]               0\n",
            "          Conv2d-127            [-1, 960, 7, 7]         153,600\n",
            "     BatchNorm2d-128            [-1, 960, 7, 7]           1,920\n",
            "           ReLU6-129            [-1, 960, 7, 7]               0\n",
            "          Conv2d-130            [-1, 960, 7, 7]           8,640\n",
            "     BatchNorm2d-131            [-1, 960, 7, 7]           1,920\n",
            "           ReLU6-132            [-1, 960, 7, 7]               0\n",
            "          Conv2d-133            [-1, 160, 7, 7]         153,600\n",
            "     BatchNorm2d-134            [-1, 160, 7, 7]             320\n",
            "InvertedResidual-135            [-1, 160, 7, 7]               0\n",
            "          Conv2d-136            [-1, 960, 7, 7]         153,600\n",
            "     BatchNorm2d-137            [-1, 960, 7, 7]           1,920\n",
            "           ReLU6-138            [-1, 960, 7, 7]               0\n",
            "          Conv2d-139            [-1, 960, 7, 7]           8,640\n",
            "     BatchNorm2d-140            [-1, 960, 7, 7]           1,920\n",
            "           ReLU6-141            [-1, 960, 7, 7]               0\n",
            "          Conv2d-142            [-1, 160, 7, 7]         153,600\n",
            "     BatchNorm2d-143            [-1, 160, 7, 7]             320\n",
            "InvertedResidual-144            [-1, 160, 7, 7]               0\n",
            "          Conv2d-145            [-1, 960, 7, 7]         153,600\n",
            "     BatchNorm2d-146            [-1, 960, 7, 7]           1,920\n",
            "           ReLU6-147            [-1, 960, 7, 7]               0\n",
            "          Conv2d-148            [-1, 960, 7, 7]           8,640\n",
            "     BatchNorm2d-149            [-1, 960, 7, 7]           1,920\n",
            "           ReLU6-150            [-1, 960, 7, 7]               0\n",
            "          Conv2d-151            [-1, 320, 7, 7]         307,200\n",
            "     BatchNorm2d-152            [-1, 320, 7, 7]             640\n",
            "InvertedResidual-153            [-1, 320, 7, 7]               0\n",
            "          Conv2d-154           [-1, 1280, 7, 7]         409,600\n",
            "     BatchNorm2d-155           [-1, 1280, 7, 7]           2,560\n",
            "           ReLU6-156           [-1, 1280, 7, 7]               0\n",
            "          Linear-157                  [-1, 512]         655,872\n",
            "            ReLU-158                  [-1, 512]               0\n",
            "         Dropout-159                  [-1, 512]               0\n",
            "          Linear-160                    [-1, 8]           4,104\n",
            "================================================================\n",
            "Total params: 2,883,848\n",
            "Trainable params: 2,883,848\n",
            "Non-trainable params: 0\n",
            "----------------------------------------------------------------\n",
            "Input size (MB): 0.57\n",
            "Forward/backward pass size (MB): 152.86\n",
            "Params size (MB): 11.00\n",
            "Estimated Total Size (MB): 164.44\n",
            "----------------------------------------------------------------\n"
          ]
        }
      ]
    }
  ],
  "metadata": {
    "accelerator": "GPU",
    "colab": {
      "gpuType": "T4",
      "provenance": [],
      "authorship_tag": "ABX9TyNE2PkNn2ZAw63EfG0LJkP0"
    },
    "kernelspec": {
      "display_name": "Python 3",
      "name": "python3"
    },
    "language_info": {
      "name": "python"
    }
  },
  "nbformat": 4,
  "nbformat_minor": 0
}