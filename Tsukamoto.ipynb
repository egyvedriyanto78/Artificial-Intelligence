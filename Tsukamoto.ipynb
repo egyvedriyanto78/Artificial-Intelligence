{
  "nbformat": 4,
  "nbformat_minor": 0,
  "metadata": {
    "colab": {
      "provenance": [],
      "authorship_tag": "ABX9TyPxH/tKoIR3TKBqAUkYdiE/",
      "include_colab_link": true
    },
    "kernelspec": {
      "name": "python3",
      "display_name": "Python 3"
    },
    "language_info": {
      "name": "python"
    }
  },
  "cells": [
    {
      "cell_type": "markdown",
      "metadata": {
        "id": "view-in-github",
        "colab_type": "text"
      },
      "source": [
        "<a href=\"https://colab.research.google.com/github/egyvedriyanto78/Artificial-Intelligence/blob/main/Tsukamoto.ipynb\" target=\"_parent\"><img src=\"https://colab.research.google.com/assets/colab-badge.svg\" alt=\"Open In Colab\"/></a>"
      ]
    },
    {
      "cell_type": "markdown",
      "source": [
        "# Studi Kasus: Pengontrol Kecepatan Kipas Berdasarkan Suhu\n",
        "\n",
        "## Fuzzy Tsukamoto"
      ],
      "metadata": {
        "id": "-UzsuNBnivT0"
      }
    },
    {
      "cell_type": "markdown",
      "source": [
        "Karakteristik:\n",
        "\n",
        "- Menggunakan aturan IF-THEN dengan output fuzzy yang di-defuzzifikasi - menjadi crisp menggunakan metode weighted average.\n",
        "- Cocok untuk sistem kontrol dengan output yang memiliki hubungan linear dengan input."
      ],
      "metadata": {
        "id": "RBAlSiShoYy-"
      }
    },
    {
      "cell_type": "code",
      "execution_count": 12,
      "metadata": {
        "id": "T-p8RUGmgF5o"
      },
      "outputs": [],
      "source": [
        "# Himpunan Fuzzy dan Aturan Fuzzy\n",
        "\n",
        "def fuzzy_suhu_rendah(suhu):\n",
        "    if suhu <= 20:\n",
        "        return 1\n",
        "    elif 20 < suhu < 25:\n",
        "        return (25 - suhu) / (25 - 20)\n",
        "    else:\n",
        "        return 0\n",
        "\n",
        "def fuzzy_suhu_sedang(suhu):\n",
        "    if 20 < suhu < 25:\n",
        "        return (suhu - 20) / (25 - 20)\n",
        "    elif 25 <= suhu <= 30:\n",
        "        return 1\n",
        "    elif 30 < suhu < 35:\n",
        "        return (35 - suhu) / (35 - 30)\n",
        "    else:\n",
        "        return 0\n",
        "\n",
        "def fuzzy_suhu_tinggi(suhu):\n",
        "    if suhu <= 30:\n",
        "        return 0\n",
        "    elif 30 < suhu < 35:\n",
        "        return (suhu - 30) / (35 - 30)\n",
        "    else:\n",
        "        return 1\n"
      ]
    },
    {
      "cell_type": "code",
      "source": [
        "# Defuzzifikasi\n",
        "\n",
        "def defuzzification(low, medium, high):\n",
        "    numerator = (low * 25) + (medium * 50) + (high * 75)\n",
        "    denominator = low + medium + high\n",
        "    if denominator == 0:\n",
        "        return 0\n",
        "    return numerator / denominator"
      ],
      "metadata": {
        "id": "M71ZdQAyi9YO"
      },
      "execution_count": 14,
      "outputs": []
    },
    {
      "cell_type": "code",
      "source": [
        "# Control kecepatan kipas\n",
        "\n",
        "def kontrol_kecepatan_kipas(suhu):\n",
        "    rendah = fuzzy_suhu_rendah(suhu)\n",
        "    sedang = fuzzy_suhu_sedang(suhu)\n",
        "    tinggi = fuzzy_suhu_tinggi(suhu)\n",
        "\n",
        "    kecepatan = defuzzification(rendah, sedang, tinggi)\n",
        "    return kecepatan"
      ],
      "metadata": {
        "id": "S0snAwKWkbTn"
      },
      "execution_count": 15,
      "outputs": []
    },
    {
      "cell_type": "code",
      "source": [
        "# Contoh penggunaan\n",
        "suhu = 28\n",
        "kecepatan_kipas = kontrol_kecepatan_kipas(suhu)\n",
        "print(f\"Suhu: {suhu}°C, Kecepatan Kipas: {kecepatan_kipas}\")"
      ],
      "metadata": {
        "colab": {
          "base_uri": "https://localhost:8080/"
        },
        "id": "PFEf5ItzkoGP",
        "outputId": "e5ebfae6-8396-43d1-a87f-7cddf4f9a091"
      },
      "execution_count": 21,
      "outputs": [
        {
          "output_type": "stream",
          "name": "stdout",
          "text": [
            "Suhu: 28°C, Kecepatan Kipas: 50.0\n"
          ]
        }
      ]
    }
  ]
}