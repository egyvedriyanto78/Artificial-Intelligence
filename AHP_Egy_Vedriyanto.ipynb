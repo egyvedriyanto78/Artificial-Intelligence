{
  "nbformat": 4,
  "nbformat_minor": 0,
  "metadata": {
    "colab": {
      "provenance": [],
      "authorship_tag": "ABX9TyNBXUTV46XkjuPzYaDDTvbz"
    },
    "kernelspec": {
      "name": "python3",
      "display_name": "Python 3"
    },
    "language_info": {
      "name": "python"
    }
  },
  "cells": [
    {
      "cell_type": "markdown",
      "source": [
        "#Analytic Hierarchy Process\n",
        "\n",
        "#####Egy Vedriyanto ( 2117051035 )\n",
        "Class B"
      ],
      "metadata": {
        "id": "4XDKCQquQELm"
      }
    },
    {
      "cell_type": "markdown",
      "source": [
        "AHP (Analytic Hierarchy Process) adalah sebuah metode yang digunakan dalam pengambilan keputusan multi-kriteria. Metode ini dikembangkan oleh Thomas L. Saaty dan digunakan untuk mengurutkan dan memilih opsi terbaik dari beberapa kriteria yang saling terkait.\n",
        "\n",
        "AHP melibatkan tahapan-tahapan berikut:\n",
        "\n",
        "- Merumuskan masalah pengambilan keputusan.\n",
        "- Membuat hierarki kriteria dengan menentukan kriteria utama dan sub-kriteria yang relevan.\n",
        "- Membuat matriks perbandingan berpasangan (pairwise comparison) untuk menilai tingkat kepentingan antara setiap pasangan kriteria dan sub-kriteria.\n",
        "- Menghitung bobot relatif (priority weight) dari setiap kriteria dan sub-kriteria.\n",
        "- Menggunakan bobot relatif untuk menghitung skor total dari setiap opsi yang dinilai.\n",
        "- Menentukan opsi terbaik berdasarkan skor total yang diperoleh."
      ],
      "metadata": {
        "id": "ROMbXK9qQMoC"
      }
    },
    {
      "cell_type": "code",
      "source": [
        "import numpy as np\n",
        "import pandas as pd\n",
        "from sklearn.preprocessing import normalize"
      ],
      "metadata": {
        "id": "PGgGVSxAQiKy"
      },
      "execution_count": 1,
      "outputs": []
    },
    {
      "cell_type": "markdown",
      "source": [
        "Studi Kasus : Memilih SmartPhone baru\n",
        "\n",
        "Terdapat 3 kriteria dari smartphone yang akan dinilai, diantaranya \n",
        "*   Performa \n",
        "*   Kualitas Kamera \n",
        "*   Harga\n",
        "\n",
        "Skor prioritas utama = 8-3-5\n",
        "\n",
        "Lalu, ada 3 opsi merk SmartPhone yang akan di evaluasi, diantaranya\n",
        "*   Samsung\n",
        "*   Poco\n",
        "*   Realme\n",
        "\n",
        "P = Performa;\n",
        "K = Kualitas Kamera;\n",
        "H = Harga;\n",
        "\n",
        "---\n",
        "Samsung \n",
        "*   P = 8\n",
        "*   K = 8\n",
        "*   H = 3\n",
        "\n",
        "Poco\n",
        "*   P = 9\n",
        "*   K = 6\n",
        "*   H = 4\n",
        "\n",
        "Realme\n",
        "*   P = 7\n",
        "*   K = 7\n",
        "*   H = 5\n",
        "\n",
        "\n",
        "\n",
        "\n",
        "\n",
        "\n",
        "\n",
        "\n",
        "\n"
      ],
      "metadata": {
        "id": "0LjzjxaHRrXG"
      }
    },
    {
      "cell_type": "code",
      "source": [
        "def calc_prior(features, total_point):\n",
        "    n = len(features[0])\n",
        "    ahp_matrix = np.ones([n, n])\n",
        "\n",
        "    for i in range(0, n): # baris\n",
        "        for j in range(0, n): # kolom\n",
        "            if(i < j):\n",
        "                if(i == 0):\n",
        "                    ahp_matrix[i, j] = float(features[1][j-1])\n",
        "                    ahp_matrix[j, i] = float(1/features[1][j-1])\n",
        "                else:\n",
        "                    if(ahp_matrix[0, j] < ahp_matrix[0, i]):\n",
        "                        ahp_matrix[i, j] = float(1/((ahp_matrix[0, i] - ahp_matrix[0, j]) + 1))\n",
        "                    else:\n",
        "                        ahp_matrix[i, j] = float((ahp_matrix[0, j] - ahp_matrix[0, i]) + 1)\n",
        "                    ahp_matrix[j, i] = float(1/ahp_matrix[i,j])\n",
        "\n",
        "    normalized_matrix = normalize(ahp_matrix, axis=0, norm=\"l1\")\n",
        "    weight = normalized_matrix.mean(1)\n",
        "\n",
        "    points = total_point * weight\n",
        "\n",
        "    return dict(zip(features[0], points))"
      ],
      "metadata": {
        "id": "c75ihkw5UVy9"
      },
      "execution_count": 2,
      "outputs": []
    },
    {
      "cell_type": "code",
      "source": [
        "# Menghitung skor prioritas utama (kriteria)\n",
        "main_dict = calc_prior([['Performa', 'Kualitas Kamera', 'Harga'], [8, 3, 5]], 1)\n",
        "main_dict"
      ],
      "metadata": {
        "colab": {
          "base_uri": "https://localhost:8080/"
        },
        "id": "K4e41oi-arF5",
        "outputId": "22d84709-76ce-490d-eee4-027ccdb9b574"
      },
      "execution_count": 7,
      "outputs": [
        {
          "output_type": "execute_result",
          "data": {
            "text/plain": [
              "{'Performa': 0.6463492063492065,\n",
              " 'Kualitas Kamera': 0.06412698412698413,\n",
              " 'Harga': 0.2895238095238095}"
            ]
          },
          "metadata": {},
          "execution_count": 7
        }
      ]
    },
    {
      "cell_type": "code",
      "source": [
        "# Menghitung skor prioritas berdasarkan performa tiap smartphone\n",
        "perform_dict = calc_prior([['Poco', 'Realme', 'Samsung'], [9, 7, 8]], 1)\n",
        "perform_dict"
      ],
      "metadata": {
        "colab": {
          "base_uri": "https://localhost:8080/"
        },
        "id": "w7XhqH8fggD6",
        "outputId": "b0ef3ac8-2a56-4050-c59c-a390bdacb2c5"
      },
      "execution_count": 14,
      "outputs": [
        {
          "output_type": "execute_result",
          "data": {
            "text/plain": [
              "{'Poco': 0.7765920155793573,\n",
              " 'Realme': 0.06851022395326194,\n",
              " 'Samsung': 0.1548977604673807}"
            ]
          },
          "metadata": {},
          "execution_count": 14
        }
      ]
    },
    {
      "cell_type": "code",
      "source": [
        "# Menghitung skor prioritas berdasarkan kualitas kamera tiap smartphone\n",
        "quality_dict = calc_prior([['Samsung', 'Poco', 'Realme'], [8, 6, 7]], 1)\n",
        "quality_dict"
      ],
      "metadata": {
        "colab": {
          "base_uri": "https://localhost:8080/"
        },
        "id": "tlUJJ1LEkIeS",
        "outputId": "d83f4edc-5dc3-463c-9207-14828b5b2b90"
      },
      "execution_count": 15,
      "outputs": [
        {
          "output_type": "execute_result",
          "data": {
            "text/plain": [
              "{'Samsung': 0.7530140110785273,\n",
              " 'Poco': 0.07518735744542197,\n",
              " 'Realme': 0.17179863147605082}"
            ]
          },
          "metadata": {},
          "execution_count": 15
        }
      ]
    },
    {
      "cell_type": "code",
      "source": [
        "# Menghitung skor prioritas berdasarkan harga tiap smartphone\n",
        "price_dict = calc_prior([['Realme', 'Samsung', 'Poco'], [5, 3, 4]], 1)\n",
        "price_dict"
      ],
      "metadata": {
        "colab": {
          "base_uri": "https://localhost:8080/"
        },
        "id": "FltYE9BTkvc-",
        "outputId": "42eb1fc1-d7e7-4dc2-8f6c-872d6acee3af"
      },
      "execution_count": 16,
      "outputs": [
        {
          "output_type": "execute_result",
          "data": {
            "text/plain": [
              "{'Realme': 0.633345720302242,\n",
              " 'Samsung': 0.1061563235476279,\n",
              " 'Poco': 0.26049795615013005}"
            ]
          },
          "metadata": {},
          "execution_count": 16
        }
      ]
    },
    {
      "cell_type": "code",
      "source": [
        "# Membuat dataframe dari skor prioritas smartphone berdasarkan kriteria\n",
        "df = pd.DataFrame([perform_dict, quality_dict, price_dict])\n",
        "df.index = main_dict.keys()\n",
        "df"
      ],
      "metadata": {
        "colab": {
          "base_uri": "https://localhost:8080/",
          "height": 143
        },
        "id": "JL_sexVDnv2S",
        "outputId": "e7ec117d-edc4-4b67-d982-4242862c0839"
      },
      "execution_count": 17,
      "outputs": [
        {
          "output_type": "execute_result",
          "data": {
            "text/plain": [
              "                     Poco    Realme   Samsung\n",
              "Performa         0.776592  0.068510  0.154898\n",
              "Kualitas Kamera  0.075187  0.171799  0.753014\n",
              "Harga            0.260498  0.633346  0.106156"
            ],
            "text/html": [
              "\n",
              "  <div id=\"df-a45e6213-65fc-4f3b-a89f-d37384948fbd\">\n",
              "    <div class=\"colab-df-container\">\n",
              "      <div>\n",
              "<style scoped>\n",
              "    .dataframe tbody tr th:only-of-type {\n",
              "        vertical-align: middle;\n",
              "    }\n",
              "\n",
              "    .dataframe tbody tr th {\n",
              "        vertical-align: top;\n",
              "    }\n",
              "\n",
              "    .dataframe thead th {\n",
              "        text-align: right;\n",
              "    }\n",
              "</style>\n",
              "<table border=\"1\" class=\"dataframe\">\n",
              "  <thead>\n",
              "    <tr style=\"text-align: right;\">\n",
              "      <th></th>\n",
              "      <th>Poco</th>\n",
              "      <th>Realme</th>\n",
              "      <th>Samsung</th>\n",
              "    </tr>\n",
              "  </thead>\n",
              "  <tbody>\n",
              "    <tr>\n",
              "      <th>Performa</th>\n",
              "      <td>0.776592</td>\n",
              "      <td>0.068510</td>\n",
              "      <td>0.154898</td>\n",
              "    </tr>\n",
              "    <tr>\n",
              "      <th>Kualitas Kamera</th>\n",
              "      <td>0.075187</td>\n",
              "      <td>0.171799</td>\n",
              "      <td>0.753014</td>\n",
              "    </tr>\n",
              "    <tr>\n",
              "      <th>Harga</th>\n",
              "      <td>0.260498</td>\n",
              "      <td>0.633346</td>\n",
              "      <td>0.106156</td>\n",
              "    </tr>\n",
              "  </tbody>\n",
              "</table>\n",
              "</div>\n",
              "      <button class=\"colab-df-convert\" onclick=\"convertToInteractive('df-a45e6213-65fc-4f3b-a89f-d37384948fbd')\"\n",
              "              title=\"Convert this dataframe to an interactive table.\"\n",
              "              style=\"display:none;\">\n",
              "        \n",
              "  <svg xmlns=\"http://www.w3.org/2000/svg\" height=\"24px\"viewBox=\"0 0 24 24\"\n",
              "       width=\"24px\">\n",
              "    <path d=\"M0 0h24v24H0V0z\" fill=\"none\"/>\n",
              "    <path d=\"M18.56 5.44l.94 2.06.94-2.06 2.06-.94-2.06-.94-.94-2.06-.94 2.06-2.06.94zm-11 1L8.5 8.5l.94-2.06 2.06-.94-2.06-.94L8.5 2.5l-.94 2.06-2.06.94zm10 10l.94 2.06.94-2.06 2.06-.94-2.06-.94-.94-2.06-.94 2.06-2.06.94z\"/><path d=\"M17.41 7.96l-1.37-1.37c-.4-.4-.92-.59-1.43-.59-.52 0-1.04.2-1.43.59L10.3 9.45l-7.72 7.72c-.78.78-.78 2.05 0 2.83L4 21.41c.39.39.9.59 1.41.59.51 0 1.02-.2 1.41-.59l7.78-7.78 2.81-2.81c.8-.78.8-2.07 0-2.86zM5.41 20L4 18.59l7.72-7.72 1.47 1.35L5.41 20z\"/>\n",
              "  </svg>\n",
              "      </button>\n",
              "      \n",
              "  <style>\n",
              "    .colab-df-container {\n",
              "      display:flex;\n",
              "      flex-wrap:wrap;\n",
              "      gap: 12px;\n",
              "    }\n",
              "\n",
              "    .colab-df-convert {\n",
              "      background-color: #E8F0FE;\n",
              "      border: none;\n",
              "      border-radius: 50%;\n",
              "      cursor: pointer;\n",
              "      display: none;\n",
              "      fill: #1967D2;\n",
              "      height: 32px;\n",
              "      padding: 0 0 0 0;\n",
              "      width: 32px;\n",
              "    }\n",
              "\n",
              "    .colab-df-convert:hover {\n",
              "      background-color: #E2EBFA;\n",
              "      box-shadow: 0px 1px 2px rgba(60, 64, 67, 0.3), 0px 1px 3px 1px rgba(60, 64, 67, 0.15);\n",
              "      fill: #174EA6;\n",
              "    }\n",
              "\n",
              "    [theme=dark] .colab-df-convert {\n",
              "      background-color: #3B4455;\n",
              "      fill: #D2E3FC;\n",
              "    }\n",
              "\n",
              "    [theme=dark] .colab-df-convert:hover {\n",
              "      background-color: #434B5C;\n",
              "      box-shadow: 0px 1px 3px 1px rgba(0, 0, 0, 0.15);\n",
              "      filter: drop-shadow(0px 1px 2px rgba(0, 0, 0, 0.3));\n",
              "      fill: #FFFFFF;\n",
              "    }\n",
              "  </style>\n",
              "\n",
              "      <script>\n",
              "        const buttonEl =\n",
              "          document.querySelector('#df-a45e6213-65fc-4f3b-a89f-d37384948fbd button.colab-df-convert');\n",
              "        buttonEl.style.display =\n",
              "          google.colab.kernel.accessAllowed ? 'block' : 'none';\n",
              "\n",
              "        async function convertToInteractive(key) {\n",
              "          const element = document.querySelector('#df-a45e6213-65fc-4f3b-a89f-d37384948fbd');\n",
              "          const dataTable =\n",
              "            await google.colab.kernel.invokeFunction('convertToInteractive',\n",
              "                                                     [key], {});\n",
              "          if (!dataTable) return;\n",
              "\n",
              "          const docLinkHtml = 'Like what you see? Visit the ' +\n",
              "            '<a target=\"_blank\" href=https://colab.research.google.com/notebooks/data_table.ipynb>data table notebook</a>'\n",
              "            + ' to learn more about interactive tables.';\n",
              "          element.innerHTML = '';\n",
              "          dataTable['output_type'] = 'display_data';\n",
              "          await google.colab.output.renderOutput(dataTable, element);\n",
              "          const docLink = document.createElement('div');\n",
              "          docLink.innerHTML = docLinkHtml;\n",
              "          element.appendChild(docLink);\n",
              "        }\n",
              "      </script>\n",
              "    </div>\n",
              "  </div>\n",
              "  "
            ]
          },
          "metadata": {},
          "execution_count": 17
        }
      ]
    },
    {
      "cell_type": "code",
      "source": [
        "# Menambahkan total skor\n",
        "total = df.sum()\n",
        "total.name = 'Total Score'\n",
        "df = pd.concat([df, total.to_frame().T])\n",
        "df"
      ],
      "metadata": {
        "colab": {
          "base_uri": "https://localhost:8080/",
          "height": 174
        },
        "id": "l-iTk4s2oeuc",
        "outputId": "96e12dde-aafa-4a1a-cbfe-d632cbf8fc3a"
      },
      "execution_count": 18,
      "outputs": [
        {
          "output_type": "execute_result",
          "data": {
            "text/plain": [
              "                     Poco    Realme   Samsung\n",
              "Performa         0.776592  0.068510  0.154898\n",
              "Kualitas Kamera  0.075187  0.171799  0.753014\n",
              "Harga            0.260498  0.633346  0.106156\n",
              "Total Score      1.112277  0.873655  1.014068"
            ],
            "text/html": [
              "\n",
              "  <div id=\"df-60d0f9ee-69b8-4063-bbdd-e7c5ad05eeb9\">\n",
              "    <div class=\"colab-df-container\">\n",
              "      <div>\n",
              "<style scoped>\n",
              "    .dataframe tbody tr th:only-of-type {\n",
              "        vertical-align: middle;\n",
              "    }\n",
              "\n",
              "    .dataframe tbody tr th {\n",
              "        vertical-align: top;\n",
              "    }\n",
              "\n",
              "    .dataframe thead th {\n",
              "        text-align: right;\n",
              "    }\n",
              "</style>\n",
              "<table border=\"1\" class=\"dataframe\">\n",
              "  <thead>\n",
              "    <tr style=\"text-align: right;\">\n",
              "      <th></th>\n",
              "      <th>Poco</th>\n",
              "      <th>Realme</th>\n",
              "      <th>Samsung</th>\n",
              "    </tr>\n",
              "  </thead>\n",
              "  <tbody>\n",
              "    <tr>\n",
              "      <th>Performa</th>\n",
              "      <td>0.776592</td>\n",
              "      <td>0.068510</td>\n",
              "      <td>0.154898</td>\n",
              "    </tr>\n",
              "    <tr>\n",
              "      <th>Kualitas Kamera</th>\n",
              "      <td>0.075187</td>\n",
              "      <td>0.171799</td>\n",
              "      <td>0.753014</td>\n",
              "    </tr>\n",
              "    <tr>\n",
              "      <th>Harga</th>\n",
              "      <td>0.260498</td>\n",
              "      <td>0.633346</td>\n",
              "      <td>0.106156</td>\n",
              "    </tr>\n",
              "    <tr>\n",
              "      <th>Total Score</th>\n",
              "      <td>1.112277</td>\n",
              "      <td>0.873655</td>\n",
              "      <td>1.014068</td>\n",
              "    </tr>\n",
              "  </tbody>\n",
              "</table>\n",
              "</div>\n",
              "      <button class=\"colab-df-convert\" onclick=\"convertToInteractive('df-60d0f9ee-69b8-4063-bbdd-e7c5ad05eeb9')\"\n",
              "              title=\"Convert this dataframe to an interactive table.\"\n",
              "              style=\"display:none;\">\n",
              "        \n",
              "  <svg xmlns=\"http://www.w3.org/2000/svg\" height=\"24px\"viewBox=\"0 0 24 24\"\n",
              "       width=\"24px\">\n",
              "    <path d=\"M0 0h24v24H0V0z\" fill=\"none\"/>\n",
              "    <path d=\"M18.56 5.44l.94 2.06.94-2.06 2.06-.94-2.06-.94-.94-2.06-.94 2.06-2.06.94zm-11 1L8.5 8.5l.94-2.06 2.06-.94-2.06-.94L8.5 2.5l-.94 2.06-2.06.94zm10 10l.94 2.06.94-2.06 2.06-.94-2.06-.94-.94-2.06-.94 2.06-2.06.94z\"/><path d=\"M17.41 7.96l-1.37-1.37c-.4-.4-.92-.59-1.43-.59-.52 0-1.04.2-1.43.59L10.3 9.45l-7.72 7.72c-.78.78-.78 2.05 0 2.83L4 21.41c.39.39.9.59 1.41.59.51 0 1.02-.2 1.41-.59l7.78-7.78 2.81-2.81c.8-.78.8-2.07 0-2.86zM5.41 20L4 18.59l7.72-7.72 1.47 1.35L5.41 20z\"/>\n",
              "  </svg>\n",
              "      </button>\n",
              "      \n",
              "  <style>\n",
              "    .colab-df-container {\n",
              "      display:flex;\n",
              "      flex-wrap:wrap;\n",
              "      gap: 12px;\n",
              "    }\n",
              "\n",
              "    .colab-df-convert {\n",
              "      background-color: #E8F0FE;\n",
              "      border: none;\n",
              "      border-radius: 50%;\n",
              "      cursor: pointer;\n",
              "      display: none;\n",
              "      fill: #1967D2;\n",
              "      height: 32px;\n",
              "      padding: 0 0 0 0;\n",
              "      width: 32px;\n",
              "    }\n",
              "\n",
              "    .colab-df-convert:hover {\n",
              "      background-color: #E2EBFA;\n",
              "      box-shadow: 0px 1px 2px rgba(60, 64, 67, 0.3), 0px 1px 3px 1px rgba(60, 64, 67, 0.15);\n",
              "      fill: #174EA6;\n",
              "    }\n",
              "\n",
              "    [theme=dark] .colab-df-convert {\n",
              "      background-color: #3B4455;\n",
              "      fill: #D2E3FC;\n",
              "    }\n",
              "\n",
              "    [theme=dark] .colab-df-convert:hover {\n",
              "      background-color: #434B5C;\n",
              "      box-shadow: 0px 1px 3px 1px rgba(0, 0, 0, 0.15);\n",
              "      filter: drop-shadow(0px 1px 2px rgba(0, 0, 0, 0.3));\n",
              "      fill: #FFFFFF;\n",
              "    }\n",
              "  </style>\n",
              "\n",
              "      <script>\n",
              "        const buttonEl =\n",
              "          document.querySelector('#df-60d0f9ee-69b8-4063-bbdd-e7c5ad05eeb9 button.colab-df-convert');\n",
              "        buttonEl.style.display =\n",
              "          google.colab.kernel.accessAllowed ? 'block' : 'none';\n",
              "\n",
              "        async function convertToInteractive(key) {\n",
              "          const element = document.querySelector('#df-60d0f9ee-69b8-4063-bbdd-e7c5ad05eeb9');\n",
              "          const dataTable =\n",
              "            await google.colab.kernel.invokeFunction('convertToInteractive',\n",
              "                                                     [key], {});\n",
              "          if (!dataTable) return;\n",
              "\n",
              "          const docLinkHtml = 'Like what you see? Visit the ' +\n",
              "            '<a target=\"_blank\" href=https://colab.research.google.com/notebooks/data_table.ipynb>data table notebook</a>'\n",
              "            + ' to learn more about interactive tables.';\n",
              "          element.innerHTML = '';\n",
              "          dataTable['output_type'] = 'display_data';\n",
              "          await google.colab.output.renderOutput(dataTable, element);\n",
              "          const docLink = document.createElement('div');\n",
              "          docLink.innerHTML = docLinkHtml;\n",
              "          element.appendChild(docLink);\n",
              "        }\n",
              "      </script>\n",
              "    </div>\n",
              "  </div>\n",
              "  "
            ]
          },
          "metadata": {},
          "execution_count": 18
        }
      ]
    },
    {
      "cell_type": "markdown",
      "source": [
        "Kesimpulan yang bisa diambil dari skor akhir adalah memilih Poco Phone sebagai smartphone baru.\n",
        "Terima Kasih."
      ],
      "metadata": {
        "id": "qNc5EYBapgzY"
      }
    }
  ]
}