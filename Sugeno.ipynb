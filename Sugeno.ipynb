{
  "nbformat": 4,
  "nbformat_minor": 0,
  "metadata": {
    "colab": {
      "provenance": [],
      "gpuType": "T4",
      "authorship_tag": "ABX9TyN6qVSxutBDKa42GF0F7MDC",
      "include_colab_link": true
    },
    "kernelspec": {
      "name": "python3",
      "display_name": "Python 3"
    },
    "language_info": {
      "name": "python"
    },
    "accelerator": "GPU"
  },
  "cells": [
    {
      "cell_type": "markdown",
      "metadata": {
        "id": "view-in-github",
        "colab_type": "text"
      },
      "source": [
        "<a href=\"https://colab.research.google.com/github/egyvedriyanto78/Artificial-Intelligence/blob/main/Sugeno.ipynb\" target=\"_parent\"><img src=\"https://colab.research.google.com/assets/colab-badge.svg\" alt=\"Open In Colab\"/></a>"
      ]
    },
    {
      "cell_type": "markdown",
      "source": [
        "# Fuzzy Sugeno\n",
        "\n",
        "Karakteristik:\n",
        "\n",
        "- Menggunakan aturan IF-THEN dengan output yang berupa fungsi linear atau konstanta.\n",
        "- Output fuzzy adalah fungsi matematika yang memungkinkan perhitungan yang lebih cepat.\n",
        "- Cocok untuk sistem kontrol adaptif.\n",
        "\n",
        "Contoh Kasus:\n",
        "\n",
        "- Kontrol robot: Mengontrol gerakan robot berdasarkan input sensor jarak dan kecepatan."
      ],
      "metadata": {
        "id": "9MqG7hr6ovVI"
      }
    },
    {
      "cell_type": "code",
      "source": [
        "!pip install scikit-fuzzy"
      ],
      "metadata": {
        "colab": {
          "base_uri": "https://localhost:8080/"
        },
        "id": "sH67Pcoao5_R",
        "outputId": "4361c20b-f076-428a-e7c1-97bceb6f2a8f"
      },
      "execution_count": 2,
      "outputs": [
        {
          "output_type": "stream",
          "name": "stdout",
          "text": [
            "Collecting scikit-fuzzy\n",
            "  Downloading scikit-fuzzy-0.4.2.tar.gz (993 kB)\n",
            "\u001b[?25l     \u001b[90m━━━━━━━━━━━━━━━━━━━━━━━━━━━━━━━━━━━━━━━━\u001b[0m \u001b[32m0.0/994.0 kB\u001b[0m \u001b[31m?\u001b[0m eta \u001b[36m-:--:--\u001b[0m\r\u001b[2K     \u001b[91m━━━━━━━━━━━━━━━━━━━━━━━━━━━━━\u001b[0m\u001b[90m╺\u001b[0m\u001b[90m━━━━━━━━━━\u001b[0m \u001b[32m727.0/994.0 kB\u001b[0m \u001b[31m22.3 MB/s\u001b[0m eta \u001b[36m0:00:01\u001b[0m\r\u001b[2K     \u001b[90m━━━━━━━━━━━━━━━━━━━━━━━━━━━━━━━━━━━━━━━━\u001b[0m \u001b[32m994.0/994.0 kB\u001b[0m \u001b[31m18.3 MB/s\u001b[0m eta \u001b[36m0:00:00\u001b[0m\n",
            "\u001b[?25h  Preparing metadata (setup.py) ... \u001b[?25l\u001b[?25hdone\n",
            "Requirement already satisfied: numpy>=1.6.0 in /usr/local/lib/python3.10/dist-packages (from scikit-fuzzy) (1.25.2)\n",
            "Requirement already satisfied: scipy>=0.9.0 in /usr/local/lib/python3.10/dist-packages (from scikit-fuzzy) (1.11.4)\n",
            "Requirement already satisfied: networkx>=1.9.0 in /usr/local/lib/python3.10/dist-packages (from scikit-fuzzy) (3.3)\n",
            "Building wheels for collected packages: scikit-fuzzy\n",
            "  Building wheel for scikit-fuzzy (setup.py) ... \u001b[?25l\u001b[?25hdone\n",
            "  Created wheel for scikit-fuzzy: filename=scikit_fuzzy-0.4.2-py3-none-any.whl size=894078 sha256=517903ada27053db2c18821a3819ae854f1fae55f3b978761d3f5ec27f61005f\n",
            "  Stored in directory: /root/.cache/pip/wheels/4f/86/1b/dfd97134a2c8313e519bcebd95d3fedc7be7944db022094bc8\n",
            "Successfully built scikit-fuzzy\n",
            "Installing collected packages: scikit-fuzzy\n",
            "Successfully installed scikit-fuzzy-0.4.2\n"
          ]
        }
      ]
    },
    {
      "cell_type": "code",
      "source": [
        "import numpy as np\n",
        "import skfuzzy as fuzz\n",
        "from skfuzzy import control as ctrl\n",
        "\n",
        "# Variabel Input\n",
        "jarak = ctrl.Antecedent(np.arange(0, 101, 1), 'jarak')\n",
        "kecepatan = ctrl.Antecedent(np.arange(0, 101, 1), 'kecepatan')\n",
        "\n",
        "# Variabel Output\n",
        "output = ctrl.Consequent(np.arange(0, 101, 1), 'output')\n",
        "\n",
        "# Fungsi Keanggotaan Input\n",
        "jarak.automf(3)\n",
        "kecepatan.automf(3)\n",
        "\n",
        "# Fungsi Keanggotaan Output\n",
        "output['low'] = fuzz.trimf(output.universe, [0, 0, 50])\n",
        "output['medium'] = fuzz.trimf(output.universe, [0, 50, 100])\n",
        "output['high'] = fuzz.trimf(output.universe, [50, 100, 100])\n",
        "\n",
        "# Aturan Fuzzy\n",
        "rule1 = ctrl.Rule(jarak['poor'] & kecepatan['poor'], output['low'])\n",
        "rule2 = ctrl.Rule(jarak['average'] & kecepatan['average'], output['medium'])\n",
        "rule3 = ctrl.Rule(jarak['good'] & kecepatan['good'], output['high'])\n",
        "\n",
        "# Sistem Kontrol\n",
        "output_ctrl = ctrl.ControlSystem([rule1, rule2, rule3])\n",
        "output_simulasi = ctrl.ControlSystemSimulation(output_ctrl)\n",
        "\n",
        "# Input\n",
        "output_simulasi.input['jarak'] = 10\n",
        "output_simulasi.input['kecepatan'] = 70\n",
        "\n",
        "# Kalkulasi\n",
        "output_simulasi.compute()\n",
        "print(output_simulasi.output['output'])\n"
      ],
      "metadata": {
        "colab": {
          "base_uri": "https://localhost:8080/"
        },
        "id": "86PW5ntVo9em",
        "outputId": "e690da20-981f-45b2-94cc-05817d6f77ec"
      },
      "execution_count": 3,
      "outputs": [
        {
          "output_type": "stream",
          "name": "stdout",
          "text": [
            "50.00000000000007\n"
          ]
        }
      ]
    }
  ]
}